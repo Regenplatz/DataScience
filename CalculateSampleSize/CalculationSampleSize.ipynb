{
 "cells": [
  {
   "cell_type": "markdown",
   "metadata": {},
   "source": [
    "# Calculate the minimum sample size"
   ]
  },
  {
   "cell_type": "code",
   "execution_count": 5,
   "metadata": {},
   "outputs": [],
   "source": [
    "import pandas as pd\n",
    "import numpy as np\n",
    "import math"
   ]
  },
  {
   "cell_type": "markdown",
   "metadata": {},
   "source": [
    "## Parameters"
   ]
  },
  {
   "cell_type": "code",
   "execution_count": 33,
   "metadata": {},
   "outputs": [],
   "source": [
    "## population size\n",
    "N = 1000\n",
    "\n",
    "## confidence interval\n",
    "ci = 0.975\n",
    "\n",
    "## margin of error\n",
    "me = 0.05\n",
    "\n",
    "## standard deviation (default value of 0.5 (50%) because not evaluable beforehand)\n",
    "## representing the percentage (worst case scenario) that the calculated sample \n",
    "## size is big enough in terms of confidence interval\n",
    "p = 0.5"
   ]
  },
  {
   "cell_type": "code",
   "execution_count": 34,
   "metadata": {},
   "outputs": [
    {
     "data": {
      "text/plain": [
       "0.9875"
      ]
     },
     "execution_count": 34,
     "metadata": {},
     "output_type": "execute_result"
    }
   ],
   "source": [
    "## percentile (needed to read z value from z score table)\n",
    "# area_left = \"{:.3f}\".format((1 + ci)/2)\n",
    "area_left = (1 + ci)/2\n",
    "area_left"
   ]
  },
  {
   "cell_type": "markdown",
   "metadata": {},
   "source": [
    "## Evaluate z score"
   ]
  },
  {
   "cell_type": "code",
   "execution_count": 8,
   "metadata": {},
   "outputs": [
    {
     "data": {
      "text/html": [
       "<div>\n",
       "<style scoped>\n",
       "    .dataframe tbody tr th:only-of-type {\n",
       "        vertical-align: middle;\n",
       "    }\n",
       "\n",
       "    .dataframe tbody tr th {\n",
       "        vertical-align: top;\n",
       "    }\n",
       "\n",
       "    .dataframe thead th {\n",
       "        text-align: right;\n",
       "    }\n",
       "</style>\n",
       "<table border=\"1\" class=\"dataframe\">\n",
       "  <thead>\n",
       "    <tr style=\"text-align: right;\">\n",
       "      <th></th>\n",
       "      <th>Z</th>\n",
       "      <th>value</th>\n",
       "    </tr>\n",
       "  </thead>\n",
       "  <tbody>\n",
       "    <tr>\n",
       "      <th>0</th>\n",
       "      <td>0.00</td>\n",
       "      <td>0.5000</td>\n",
       "    </tr>\n",
       "    <tr>\n",
       "      <th>1</th>\n",
       "      <td>0.01</td>\n",
       "      <td>0.5040</td>\n",
       "    </tr>\n",
       "    <tr>\n",
       "      <th>2</th>\n",
       "      <td>0.02</td>\n",
       "      <td>0.5080</td>\n",
       "    </tr>\n",
       "    <tr>\n",
       "      <th>3</th>\n",
       "      <td>0.03</td>\n",
       "      <td>0.5120</td>\n",
       "    </tr>\n",
       "    <tr>\n",
       "      <th>4</th>\n",
       "      <td>0.04</td>\n",
       "      <td>0.5160</td>\n",
       "    </tr>\n",
       "    <tr>\n",
       "      <th>...</th>\n",
       "      <td>...</td>\n",
       "      <td>...</td>\n",
       "    </tr>\n",
       "    <tr>\n",
       "      <th>345</th>\n",
       "      <td>3.45</td>\n",
       "      <td>0.9997</td>\n",
       "    </tr>\n",
       "    <tr>\n",
       "      <th>346</th>\n",
       "      <td>3.46</td>\n",
       "      <td>0.9997</td>\n",
       "    </tr>\n",
       "    <tr>\n",
       "      <th>347</th>\n",
       "      <td>3.47</td>\n",
       "      <td>0.9997</td>\n",
       "    </tr>\n",
       "    <tr>\n",
       "      <th>348</th>\n",
       "      <td>3.48</td>\n",
       "      <td>0.9997</td>\n",
       "    </tr>\n",
       "    <tr>\n",
       "      <th>349</th>\n",
       "      <td>3.49</td>\n",
       "      <td>0.9998</td>\n",
       "    </tr>\n",
       "  </tbody>\n",
       "</table>\n",
       "<p>350 rows × 2 columns</p>\n",
       "</div>"
      ],
      "text/plain": [
       "        Z   value\n",
       "0    0.00  0.5000\n",
       "1    0.01  0.5040\n",
       "2    0.02  0.5080\n",
       "3    0.03  0.5120\n",
       "4    0.04  0.5160\n",
       "..    ...     ...\n",
       "345  3.45  0.9997\n",
       "346  3.46  0.9997\n",
       "347  3.47  0.9997\n",
       "348  3.48  0.9997\n",
       "349  3.49  0.9998\n",
       "\n",
       "[350 rows x 2 columns]"
      ]
     },
     "execution_count": 8,
     "metadata": {},
     "output_type": "execute_result"
    }
   ],
   "source": [
    "## read z_score table to assess the z_score\n",
    "df = pd.read_excel(\"zScore.xlsx\", sheet_name=\"zscore_left\")\n",
    "\n",
    "## unpivot z-score table\n",
    "zScoreTable = pd.melt(df, id_vars=\"Z\")\n",
    "zScoreTable.sort_values(by=[\"Z\", \"variable\"], inplace=True)\n",
    "zScoreTable[\"Z\"] = np.arange(0, 3.5, 0.01)\n",
    "zScoreTable.set_index(np.arange(0, 350), inplace=True)\n",
    "zScoreTable.drop([\"variable\"], axis=1, inplace=True)\n",
    "zScoreTable"
   ]
  },
  {
   "cell_type": "code",
   "execution_count": 9,
   "metadata": {},
   "outputs": [],
   "source": [
    "def evaluateClosestValue(lst, a):\n",
    "    \"\"\"\n",
    "    Find the closest value to the target.\n",
    "    :param lst: list, containing the closest values to the target\n",
    "    :param a: float, target value for which z-score needs to be evaluated\n",
    "    \"\"\"\n",
    "    ## in case target is exactly between two available values    \n",
    "    x1 = lst[min(range(len(lst)), key=lambda i: abs(lst[i] - a))]\n",
    "    x2 = lst[lst.index(x1) + 1]\n",
    "    if np.round(abs(x1 - a), 6) == np.round(abs(x2 - a), 6):\n",
    "        return x2\n",
    "    else:\n",
    "        return lst[min(range(len(lst)), key=lambda i: abs(lst[i] - a))]"
   ]
  },
  {
   "cell_type": "code",
   "execution_count": 46,
   "metadata": {},
   "outputs": [],
   "source": [
    "def evaluateZScore(zScoreTable, areaVal):\n",
    "    \"\"\"\n",
    "    Evaluate value with minimum distance to the desired value.\n",
    "    \"\"\"\n",
    "    z_score = None    \n",
    "    \n",
    "    ## in case value is not available in zScoreTable, check for the closest one(s)\n",
    "    lst = zScoreTable[\"value\"]    \n",
    "    closest1_val = lst[min(range(len(lst)), key=lambda i: abs(lst[i] - areaVal))]\n",
    "    closest1_idx = zScoreTable[zScoreTable[\"value\"] == closest1_val].index[0] \n",
    "    closest2_val = zScoreTable.iloc[closest1_idx+1][\"value\"]     \n",
    "    closest_val = evaluateClosestValue([closest1_val, closest2_val], areaVal)\n",
    "\n",
    "    ## evaluate z-score\n",
    "    for idx, row in zScoreTable.iterrows():  \n",
    "       \n",
    "        ## in case an value is available in several cells,\n",
    "        ## then take the one with the higher index        \n",
    "        if row[\"value\"] > closest_val:  \n",
    "            print(\"zScore:\", np.round(row[\"Z\"], 2), \"; value:\", row[\"value\"])\n",
    "            break   \n",
    "        \n",
    "        z_score = np.round(row[\"Z\"], 2)\n",
    "    \n",
    "    return z_score"
   ]
  },
  {
   "cell_type": "code",
   "execution_count": null,
   "metadata": {},
   "outputs": [],
   "source": [
    "z = evaluateZScore(zScoreTable, area_left)"
   ]
  },
  {
   "cell_type": "markdown",
   "metadata": {},
   "source": [
    "## Sample Size Calculation\n",
    "### Standard Formula"
   ]
  },
  {
   "cell_type": "code",
   "execution_count": null,
   "metadata": {},
   "outputs": [],
   "source": [
    "sample_size = ( ((z**2 * p*(1-p))/(me**2)) / \n",
    "               (1 + ((z**2 * p*(1-p))/(me**2 * N))) )\n",
    "math.ceil(sample_size), sample_size"
   ]
  },
  {
   "cell_type": "markdown",
   "metadata": {},
   "source": [
    "### Formula for Unknown or Hugh Populations"
   ]
  },
  {
   "cell_type": "code",
   "execution_count": null,
   "metadata": {},
   "outputs": [],
   "source": [
    "sample_size = (z**2 * p*(1-p)) / me**2\n",
    "math.ceil(sample_size), sample_size"
   ]
  },
  {
   "cell_type": "markdown",
   "metadata": {},
   "source": [
    "### Slovin's Formula\n",
    "Most inaccurate formula to assess sample size. Used when no knowledge about the population's behavior is availabe."
   ]
  },
  {
   "cell_type": "code",
   "execution_count": null,
   "metadata": {},
   "outputs": [],
   "source": [
    "sample_size = N / (1 + (N * me**2))\n",
    "math.ceil(sample_size), sample_size"
   ]
  },
  {
   "cell_type": "code",
   "execution_count": null,
   "metadata": {},
   "outputs": [],
   "source": []
  }
 ],
 "metadata": {
  "kernelspec": {
   "display_name": "Python 3",
   "language": "python",
   "name": "python3"
  },
  "language_info": {
   "codemirror_mode": {
    "name": "ipython",
    "version": 3
   },
   "file_extension": ".py",
   "mimetype": "text/x-python",
   "name": "python",
   "nbconvert_exporter": "python",
   "pygments_lexer": "ipython3",
   "version": "3.8.5"
  }
 },
 "nbformat": 4,
 "nbformat_minor": 4
}
