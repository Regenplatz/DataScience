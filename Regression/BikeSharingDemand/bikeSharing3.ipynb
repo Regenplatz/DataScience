{
 "cells": [
  {
   "cell_type": "markdown",
   "metadata": {},
   "source": [
    "# Metropolitan bicycle sharing system:  How many bicycles need to be ready at a given time\n",
    "## Regression Approach\n",
    "Data was taken from https://www.kaggle.com/c/bike-sharing-demand/data in April 2020.       \n",
    "Plots can be found in the notebook 'bikeSharing_visualPart'"
   ]
  },
  {
   "cell_type": "code",
   "execution_count": 1,
   "metadata": {},
   "outputs": [],
   "source": [
    "import pandas as pd\n",
    "import numpy as np\n",
    "from matplotlib import pyplot as plt\n",
    "import seaborn as sns\n",
    "from sklearn.preprocessing import PolynomialFeatures, MinMaxScaler\n",
    "from sklearn.model_selection import train_test_split, cross_validate, cross_val_score, GridSearchCV\n",
    "from sklearn.metrics import mean_squared_log_error\n",
    "from sklearn.linear_model import LinearRegression, LassoCV, RidgeCV, ElasticNet"
   ]
  },
  {
   "cell_type": "code",
   "execution_count": 2,
   "metadata": {},
   "outputs": [
    {
     "data": {
      "text/html": [
       "<div>\n",
       "<style scoped>\n",
       "    .dataframe tbody tr th:only-of-type {\n",
       "        vertical-align: middle;\n",
       "    }\n",
       "\n",
       "    .dataframe tbody tr th {\n",
       "        vertical-align: top;\n",
       "    }\n",
       "\n",
       "    .dataframe thead th {\n",
       "        text-align: right;\n",
       "    }\n",
       "</style>\n",
       "<table border=\"1\" class=\"dataframe\">\n",
       "  <thead>\n",
       "    <tr style=\"text-align: right;\">\n",
       "      <th></th>\n",
       "      <th>holiday</th>\n",
       "      <th>workingday</th>\n",
       "      <th>weather</th>\n",
       "      <th>temp</th>\n",
       "      <th>humidity</th>\n",
       "      <th>windspeed</th>\n",
       "      <th>casual</th>\n",
       "      <th>registered</th>\n",
       "      <th>count</th>\n",
       "      <th>hour</th>\n",
       "      <th>...</th>\n",
       "      <th>year</th>\n",
       "      <th>summer</th>\n",
       "      <th>fall</th>\n",
       "      <th>winter</th>\n",
       "      <th>Monday</th>\n",
       "      <th>Wednesday</th>\n",
       "      <th>Thursday</th>\n",
       "      <th>Friday</th>\n",
       "      <th>Saturday</th>\n",
       "      <th>Sunday</th>\n",
       "    </tr>\n",
       "  </thead>\n",
       "  <tbody>\n",
       "    <tr>\n",
       "      <th>0</th>\n",
       "      <td>0</td>\n",
       "      <td>0</td>\n",
       "      <td>1</td>\n",
       "      <td>9.84</td>\n",
       "      <td>81</td>\n",
       "      <td>0.0</td>\n",
       "      <td>3</td>\n",
       "      <td>13</td>\n",
       "      <td>16</td>\n",
       "      <td>0</td>\n",
       "      <td>...</td>\n",
       "      <td>0</td>\n",
       "      <td>0</td>\n",
       "      <td>0</td>\n",
       "      <td>0</td>\n",
       "      <td>0</td>\n",
       "      <td>0</td>\n",
       "      <td>0</td>\n",
       "      <td>0</td>\n",
       "      <td>1</td>\n",
       "      <td>0</td>\n",
       "    </tr>\n",
       "    <tr>\n",
       "      <th>1</th>\n",
       "      <td>0</td>\n",
       "      <td>0</td>\n",
       "      <td>1</td>\n",
       "      <td>9.02</td>\n",
       "      <td>80</td>\n",
       "      <td>0.0</td>\n",
       "      <td>8</td>\n",
       "      <td>32</td>\n",
       "      <td>40</td>\n",
       "      <td>1</td>\n",
       "      <td>...</td>\n",
       "      <td>0</td>\n",
       "      <td>0</td>\n",
       "      <td>0</td>\n",
       "      <td>0</td>\n",
       "      <td>0</td>\n",
       "      <td>0</td>\n",
       "      <td>0</td>\n",
       "      <td>0</td>\n",
       "      <td>1</td>\n",
       "      <td>0</td>\n",
       "    </tr>\n",
       "    <tr>\n",
       "      <th>2</th>\n",
       "      <td>0</td>\n",
       "      <td>0</td>\n",
       "      <td>1</td>\n",
       "      <td>9.02</td>\n",
       "      <td>80</td>\n",
       "      <td>0.0</td>\n",
       "      <td>5</td>\n",
       "      <td>27</td>\n",
       "      <td>32</td>\n",
       "      <td>2</td>\n",
       "      <td>...</td>\n",
       "      <td>0</td>\n",
       "      <td>0</td>\n",
       "      <td>0</td>\n",
       "      <td>0</td>\n",
       "      <td>0</td>\n",
       "      <td>0</td>\n",
       "      <td>0</td>\n",
       "      <td>0</td>\n",
       "      <td>1</td>\n",
       "      <td>0</td>\n",
       "    </tr>\n",
       "    <tr>\n",
       "      <th>3</th>\n",
       "      <td>0</td>\n",
       "      <td>0</td>\n",
       "      <td>1</td>\n",
       "      <td>9.84</td>\n",
       "      <td>75</td>\n",
       "      <td>0.0</td>\n",
       "      <td>3</td>\n",
       "      <td>10</td>\n",
       "      <td>13</td>\n",
       "      <td>3</td>\n",
       "      <td>...</td>\n",
       "      <td>0</td>\n",
       "      <td>0</td>\n",
       "      <td>0</td>\n",
       "      <td>0</td>\n",
       "      <td>0</td>\n",
       "      <td>0</td>\n",
       "      <td>0</td>\n",
       "      <td>0</td>\n",
       "      <td>1</td>\n",
       "      <td>0</td>\n",
       "    </tr>\n",
       "    <tr>\n",
       "      <th>4</th>\n",
       "      <td>0</td>\n",
       "      <td>0</td>\n",
       "      <td>1</td>\n",
       "      <td>9.84</td>\n",
       "      <td>75</td>\n",
       "      <td>0.0</td>\n",
       "      <td>0</td>\n",
       "      <td>1</td>\n",
       "      <td>1</td>\n",
       "      <td>4</td>\n",
       "      <td>...</td>\n",
       "      <td>0</td>\n",
       "      <td>0</td>\n",
       "      <td>0</td>\n",
       "      <td>0</td>\n",
       "      <td>0</td>\n",
       "      <td>0</td>\n",
       "      <td>0</td>\n",
       "      <td>0</td>\n",
       "      <td>1</td>\n",
       "      <td>0</td>\n",
       "    </tr>\n",
       "  </tbody>\n",
       "</table>\n",
       "<p>5 rows × 21 columns</p>\n",
       "</div>"
      ],
      "text/plain": [
       "   holiday  workingday  weather  temp  humidity  windspeed  casual  \\\n",
       "0        0           0        1  9.84        81        0.0       3   \n",
       "1        0           0        1  9.02        80        0.0       8   \n",
       "2        0           0        1  9.02        80        0.0       5   \n",
       "3        0           0        1  9.84        75        0.0       3   \n",
       "4        0           0        1  9.84        75        0.0       0   \n",
       "\n",
       "   registered  count  hour  ...  year  summer  fall  winter  Monday  \\\n",
       "0          13     16     0  ...     0       0     0       0       0   \n",
       "1          32     40     1  ...     0       0     0       0       0   \n",
       "2          27     32     2  ...     0       0     0       0       0   \n",
       "3          10     13     3  ...     0       0     0       0       0   \n",
       "4           1      1     4  ...     0       0     0       0       0   \n",
       "\n",
       "   Wednesday  Thursday  Friday  Saturday  Sunday  \n",
       "0          0         0       0         1       0  \n",
       "1          0         0       0         1       0  \n",
       "2          0         0       0         1       0  \n",
       "3          0         0       0         1       0  \n",
       "4          0         0       0         1       0  \n",
       "\n",
       "[5 rows x 21 columns]"
      ]
     },
     "execution_count": 2,
     "metadata": {},
     "output_type": "execute_result"
    }
   ],
   "source": [
    "df = pd.read_csv('df_preprocessed.csv', index_col=None, parse_dates=True)\n",
    "df.head()"
   ]
  },
  {
   "cell_type": "markdown",
   "metadata": {},
   "source": [
    "## Data Transformation\n",
    "#### Data Assignment"
   ]
  },
  {
   "cell_type": "code",
   "execution_count": 3,
   "metadata": {},
   "outputs": [],
   "source": [
    "Xy = df[['holiday', 'workingday', 'weather', 'temp', 'humidity', 'windspeed',\n",
    "        'count', 'hour', 'month', 'year', 'summer', 'fall', 'winter', 'Monday', \n",
    "        'Wednesday', 'Thursday', 'Friday', 'Saturday', 'Sunday']]\n",
    "y = Xy['count']\n",
    "X = Xy.drop(['count'], axis=1)"
   ]
  },
  {
   "cell_type": "markdown",
   "metadata": {},
   "source": [
    "#### Polynomial Features"
   ]
  },
  {
   "cell_type": "code",
   "execution_count": 4,
   "metadata": {},
   "outputs": [],
   "source": [
    "pf = PolynomialFeatures(interaction_only=False, degree=1)\n",
    "data_X = pf.fit_transform(X)"
   ]
  },
  {
   "cell_type": "markdown",
   "metadata": {},
   "source": [
    "#### Scaling"
   ]
  },
  {
   "cell_type": "code",
   "execution_count": 5,
   "metadata": {},
   "outputs": [
    {
     "data": {
      "text/html": [
       "<div>\n",
       "<style scoped>\n",
       "    .dataframe tbody tr th:only-of-type {\n",
       "        vertical-align: middle;\n",
       "    }\n",
       "\n",
       "    .dataframe tbody tr th {\n",
       "        vertical-align: top;\n",
       "    }\n",
       "\n",
       "    .dataframe thead th {\n",
       "        text-align: right;\n",
       "    }\n",
       "</style>\n",
       "<table border=\"1\" class=\"dataframe\">\n",
       "  <thead>\n",
       "    <tr style=\"text-align: right;\">\n",
       "      <th></th>\n",
       "      <th>holiday</th>\n",
       "      <th>workingday</th>\n",
       "      <th>weather</th>\n",
       "      <th>temp</th>\n",
       "      <th>humidity</th>\n",
       "      <th>windspeed</th>\n",
       "      <th>casual</th>\n",
       "      <th>registered</th>\n",
       "      <th>count</th>\n",
       "      <th>hour</th>\n",
       "      <th>...</th>\n",
       "      <th>year</th>\n",
       "      <th>summer</th>\n",
       "      <th>fall</th>\n",
       "      <th>winter</th>\n",
       "      <th>Monday</th>\n",
       "      <th>Wednesday</th>\n",
       "      <th>Thursday</th>\n",
       "      <th>Friday</th>\n",
       "      <th>Saturday</th>\n",
       "      <th>Sunday</th>\n",
       "    </tr>\n",
       "  </thead>\n",
       "  <tbody>\n",
       "    <tr>\n",
       "      <th>10881</th>\n",
       "      <td>0</td>\n",
       "      <td>1</td>\n",
       "      <td>1</td>\n",
       "      <td>0.367347</td>\n",
       "      <td>0.50</td>\n",
       "      <td>0.456213</td>\n",
       "      <td>7</td>\n",
       "      <td>329</td>\n",
       "      <td>336</td>\n",
       "      <td>0.826087</td>\n",
       "      <td>...</td>\n",
       "      <td>1.0</td>\n",
       "      <td>0</td>\n",
       "      <td>0</td>\n",
       "      <td>1</td>\n",
       "      <td>0</td>\n",
       "      <td>1</td>\n",
       "      <td>0</td>\n",
       "      <td>0</td>\n",
       "      <td>0</td>\n",
       "      <td>0</td>\n",
       "    </tr>\n",
       "    <tr>\n",
       "      <th>10882</th>\n",
       "      <td>0</td>\n",
       "      <td>1</td>\n",
       "      <td>1</td>\n",
       "      <td>0.346939</td>\n",
       "      <td>0.57</td>\n",
       "      <td>0.263195</td>\n",
       "      <td>10</td>\n",
       "      <td>231</td>\n",
       "      <td>241</td>\n",
       "      <td>0.869565</td>\n",
       "      <td>...</td>\n",
       "      <td>1.0</td>\n",
       "      <td>0</td>\n",
       "      <td>0</td>\n",
       "      <td>1</td>\n",
       "      <td>0</td>\n",
       "      <td>1</td>\n",
       "      <td>0</td>\n",
       "      <td>0</td>\n",
       "      <td>0</td>\n",
       "      <td>0</td>\n",
       "    </tr>\n",
       "    <tr>\n",
       "      <th>10883</th>\n",
       "      <td>0</td>\n",
       "      <td>1</td>\n",
       "      <td>1</td>\n",
       "      <td>0.326531</td>\n",
       "      <td>0.61</td>\n",
       "      <td>0.263195</td>\n",
       "      <td>4</td>\n",
       "      <td>164</td>\n",
       "      <td>168</td>\n",
       "      <td>0.913043</td>\n",
       "      <td>...</td>\n",
       "      <td>1.0</td>\n",
       "      <td>0</td>\n",
       "      <td>0</td>\n",
       "      <td>1</td>\n",
       "      <td>0</td>\n",
       "      <td>1</td>\n",
       "      <td>0</td>\n",
       "      <td>0</td>\n",
       "      <td>0</td>\n",
       "      <td>0</td>\n",
       "    </tr>\n",
       "    <tr>\n",
       "      <th>10884</th>\n",
       "      <td>0</td>\n",
       "      <td>1</td>\n",
       "      <td>1</td>\n",
       "      <td>0.326531</td>\n",
       "      <td>0.61</td>\n",
       "      <td>0.105325</td>\n",
       "      <td>12</td>\n",
       "      <td>117</td>\n",
       "      <td>129</td>\n",
       "      <td>0.956522</td>\n",
       "      <td>...</td>\n",
       "      <td>1.0</td>\n",
       "      <td>0</td>\n",
       "      <td>0</td>\n",
       "      <td>1</td>\n",
       "      <td>0</td>\n",
       "      <td>1</td>\n",
       "      <td>0</td>\n",
       "      <td>0</td>\n",
       "      <td>0</td>\n",
       "      <td>0</td>\n",
       "    </tr>\n",
       "    <tr>\n",
       "      <th>10885</th>\n",
       "      <td>0</td>\n",
       "      <td>1</td>\n",
       "      <td>1</td>\n",
       "      <td>0.306122</td>\n",
       "      <td>0.66</td>\n",
       "      <td>0.157870</td>\n",
       "      <td>4</td>\n",
       "      <td>84</td>\n",
       "      <td>88</td>\n",
       "      <td>1.000000</td>\n",
       "      <td>...</td>\n",
       "      <td>1.0</td>\n",
       "      <td>0</td>\n",
       "      <td>0</td>\n",
       "      <td>1</td>\n",
       "      <td>0</td>\n",
       "      <td>1</td>\n",
       "      <td>0</td>\n",
       "      <td>0</td>\n",
       "      <td>0</td>\n",
       "      <td>0</td>\n",
       "    </tr>\n",
       "  </tbody>\n",
       "</table>\n",
       "<p>5 rows × 21 columns</p>\n",
       "</div>"
      ],
      "text/plain": [
       "       holiday  workingday  weather      temp  humidity  windspeed  casual  \\\n",
       "10881        0           1        1  0.367347      0.50   0.456213       7   \n",
       "10882        0           1        1  0.346939      0.57   0.263195      10   \n",
       "10883        0           1        1  0.326531      0.61   0.263195       4   \n",
       "10884        0           1        1  0.326531      0.61   0.105325      12   \n",
       "10885        0           1        1  0.306122      0.66   0.157870       4   \n",
       "\n",
       "       registered  count      hour  ...  year  summer  fall  winter  Monday  \\\n",
       "10881         329    336  0.826087  ...   1.0       0     0       1       0   \n",
       "10882         231    241  0.869565  ...   1.0       0     0       1       0   \n",
       "10883         164    168  0.913043  ...   1.0       0     0       1       0   \n",
       "10884         117    129  0.956522  ...   1.0       0     0       1       0   \n",
       "10885          84     88  1.000000  ...   1.0       0     0       1       0   \n",
       "\n",
       "       Wednesday  Thursday  Friday  Saturday  Sunday  \n",
       "10881          1         0       0         0       0  \n",
       "10882          1         0       0         0       0  \n",
       "10883          1         0       0         0       0  \n",
       "10884          1         0       0         0       0  \n",
       "10885          1         0       0         0       0  \n",
       "\n",
       "[5 rows x 21 columns]"
      ]
     },
     "execution_count": 5,
     "metadata": {},
     "output_type": "execute_result"
    }
   ],
   "source": [
    "scaler = MinMaxScaler(feature_range=(0, 1))\n",
    "df[['temp', 'humidity', 'windspeed', 'hour', 'month', 'year']] = scaler.fit_transform(df[['temp', 'humidity', 'windspeed', 'hour', 'month', 'year']])\n",
    "df.tail()"
   ]
  },
  {
   "cell_type": "markdown",
   "metadata": {},
   "source": [
    "#### Logarithmizing"
   ]
  },
  {
   "cell_type": "raw",
   "metadata": {},
   "source": [
    "y_log= np.log(y+1)\n",
    "y_log.head()"
   ]
  },
  {
   "cell_type": "markdown",
   "metadata": {},
   "source": [
    "#### Train Test Split"
   ]
  },
  {
   "cell_type": "code",
   "execution_count": 6,
   "metadata": {},
   "outputs": [],
   "source": [
    "X_train, X_test, y_train, y_test = train_test_split(X,y, test_size=0.2, random_state=45883)"
   ]
  },
  {
   "cell_type": "markdown",
   "metadata": {},
   "source": [
    "## Machine Learning: Try different regression models\n",
    "#### LassoCV"
   ]
  },
  {
   "cell_type": "code",
   "execution_count": 7,
   "metadata": {},
   "outputs": [
    {
     "name": "stdout",
     "output_type": "stream",
     "text": [
      "Best score: 0.39388836456599013\n",
      "Best alphas:  0.05\n",
      "Best cv:  10\n"
     ]
    }
   ],
   "source": [
    "alphas_values = np.array([3,2,1,0.075,0.05,0.025,0.1,0.01,0.005,0.001,0.0001])\n",
    "lassoCV = LassoCV(alphas=alphas_values, n_jobs=-1, random_state=958)\n",
    "parameter_grid_lassoCV={'cv': ([5,6,7,8,9,10,11,12])}\n",
    "reg = GridSearchCV(estimator=lassoCV, param_grid=parameter_grid_lassoCV, n_jobs=-1)\n",
    "reg.fit(X_train, y_train)\n",
    "\n",
    "print('Best score:', reg.best_score_)\n",
    "print('Best alphas: ', reg.best_estimator_.alpha_)\n",
    "print('Best cv: ', reg.best_estimator_.cv)"
   ]
  },
  {
   "cell_type": "markdown",
   "metadata": {},
   "source": [
    "#### RidgeCV"
   ]
  },
  {
   "cell_type": "code",
   "execution_count": 8,
   "metadata": {},
   "outputs": [
    {
     "name": "stdout",
     "output_type": "stream",
     "text": [
      "Best score: 0.39382182746681627\n",
      "Best alphas:  10.0\n",
      "Best cv:  5\n"
     ]
    }
   ],
   "source": [
    "alphas_values = np.array([500,300,100,50,20,10,5,3,2,1,0.1,0.01,0.001,0.0001])\n",
    "ridgeCV = RidgeCV(alphas=alphas_values)\n",
    "parameter_grid_ridgeCV={'cv': ([5,6,7,8,9,10,11,12])}\n",
    "reg = GridSearchCV(estimator=ridgeCV, param_grid=parameter_grid_ridgeCV, n_jobs=-1)\n",
    "reg.fit(X_train, y_train)\n",
    "\n",
    "print('Best score:', reg.best_score_)\n",
    "print('Best alphas: ', reg.best_estimator_.alpha_)\n",
    "print('Best cv: ', reg.best_estimator_.cv)"
   ]
  },
  {
   "cell_type": "markdown",
   "metadata": {},
   "source": [
    "#### Elastic Net"
   ]
  },
  {
   "cell_type": "code",
   "execution_count": 9,
   "metadata": {},
   "outputs": [
    {
     "name": "stdout",
     "output_type": "stream",
     "text": [
      "Best score: 0.39387066158507456\n",
      "Best alpha:  0.05\n",
      "Best l1_ratio:  1\n"
     ]
    }
   ],
   "source": [
    "eNet = ElasticNet()\n",
    "parameter_grid_eNet={'alpha': ([50,10,5,3,2,1,0.075,0.05,0.025,0.1,0.01,0.005,0.001,0.0001]),\n",
    "                     'l1_ratio': ([0.01, 0.25, 0.5, 0.75, 1])}\n",
    "reg = GridSearchCV(estimator=eNet, param_grid=parameter_grid_eNet, n_jobs=-1)\n",
    "reg.fit(X_train, y_train)\n",
    "\n",
    "print('Best score:', reg.best_score_)\n",
    "print('Best alpha: ', reg.best_estimator_.alpha)\n",
    "print('Best l1_ratio: ', reg.best_estimator_.l1_ratio)"
   ]
  },
  {
   "cell_type": "markdown",
   "metadata": {},
   "source": [
    "### Cross Validation"
   ]
  },
  {
   "cell_type": "code",
   "execution_count": 10,
   "metadata": {},
   "outputs": [],
   "source": [
    "def cross_val(model, m, X_train, y_train):\n",
    "    cvValue_mean = []\n",
    "    for i in range(5,15):       \n",
    "        cross_val_L = cross_val_score(m, X_train, y_train, cv=i) \n",
    "        cvValue_mean.append([i,cross_val_L.mean()])\n",
    "    df_cvValue_mean = pd.DataFrame(cvValue_mean)\n",
    "    df_cvValue_mean.rename(columns={0:'cv_set_value', 1:'cv_res_mean'}, inplace = True)\n",
    "    df_cvValue_mean.set_index(['cv_set_value'], inplace=True)\n",
    "    print(df_cvValue_mean['cv_res_mean'].sort_values(ascending=False), '\\n\\n')"
   ]
  },
  {
   "cell_type": "markdown",
   "metadata": {},
   "source": [
    "### Model Assignment"
   ]
  },
  {
   "cell_type": "code",
   "execution_count": 11,
   "metadata": {},
   "outputs": [],
   "source": [
    "reg_models = [LinearRegression(n_jobs=-1),               \n",
    "              LassoCV(alphas=[0.001,0.01,0.011], cv=10),\n",
    "              RidgeCV(alphas=[2,3,4], cv=5),\n",
    "              ElasticNet(alpha=0.1, l1_ratio=1)]\n",
    "model_names = ['LinearRegression','LassoCV','RidgeCV','ElasticNet']\n",
    "dict_m = {}    "
   ]
  },
  {
   "cell_type": "markdown",
   "metadata": {},
   "source": [
    "### Fit and Predict"
   ]
  },
  {
   "cell_type": "code",
   "execution_count": 12,
   "metadata": {},
   "outputs": [
    {
     "name": "stdout",
     "output_type": "stream",
     "text": [
      "LinearRegression(n_jobs=-1)\n",
      "Score(X_train, y_train):  0.3974782967396586\n",
      "Score(X_test, y_test):  0.38653780155080464\n",
      "RMSLE:  1.2953979641124342\n",
      "cv_set_value\n",
      "7     0.394243\n",
      "10    0.394196\n",
      "8     0.394192\n",
      "14    0.394097\n",
      "9     0.393904\n",
      "5     0.393812\n",
      "6     0.393805\n",
      "11    0.393734\n",
      "12    0.393602\n",
      "13    0.393520\n",
      "Name: cv_res_mean, dtype: float64 \n",
      "\n",
      "\n",
      "LassoCV(alphas=[0.001, 0.01, 0.011], cv=10)\n",
      "Score(X_train, y_train):  0.397475762411559\n",
      "Score(X_test, y_test):  0.3866638293701493\n",
      "RMSLE:  1.2951066175735977\n",
      "cv_set_value\n",
      "7     0.394253\n",
      "8     0.394206\n",
      "10    0.394200\n",
      "14    0.394111\n",
      "9     0.393912\n",
      "5     0.393828\n",
      "6     0.393810\n",
      "11    0.393743\n",
      "12    0.393606\n",
      "13    0.393527\n",
      "Name: cv_res_mean, dtype: float64 \n",
      "\n",
      "\n",
      "RidgeCV(alphas=array([2, 3, 4]), cv=5)\n",
      "Score(X_train, y_train):  0.39747418231630904\n",
      "Score(X_test, y_test):  0.38666440327643337\n",
      "RMSLE:  1.294946963037595\n",
      "cv_set_value\n",
      "7     0.394271\n",
      "8     0.394219\n",
      "10    0.394218\n",
      "14    0.394120\n",
      "9     0.393921\n",
      "6     0.393830\n",
      "5     0.393826\n",
      "11    0.393757\n",
      "12    0.393620\n",
      "13    0.393537\n",
      "Name: cv_res_mean, dtype: float64 \n",
      "\n",
      "\n",
      "ElasticNet(alpha=0.1, l1_ratio=1)\n",
      "Score(X_train, y_train):  0.39737130793610986\n",
      "Score(X_test, y_test):  0.3874963035327934\n",
      "RMSLE:  1.291874027502091\n",
      "cv_set_value\n",
      "8     0.394235\n",
      "7     0.394219\n",
      "10    0.394163\n",
      "14    0.394076\n",
      "9     0.393878\n",
      "5     0.393848\n",
      "6     0.393792\n",
      "11    0.393727\n",
      "12    0.393530\n",
      "13    0.393505\n",
      "Name: cv_res_mean, dtype: float64 \n",
      "\n",
      "\n"
     ]
    }
   ],
   "source": [
    "def fit_predict(bestModel, dict_yPred, modelName):\n",
    "    m = bestModel\n",
    "    m.fit(X_train, y_train)\n",
    "    print(bestModel)\n",
    "    print('Score(X_train, y_train): ', m.score(X_train, y_train))\n",
    "    y_pred = m.predict(X_test) \n",
    "#     y_pred = np.expm1(y_pred)\n",
    "    y_pred[y_pred < 0] = 0         \n",
    "    dict_yPred[modelName] = y_pred\n",
    "    print('Score(X_test, y_test): ', m.score(X_test, y_test))   \n",
    "    print('RMSLE: ', np.sqrt(mean_squared_log_error(y_test, y_pred)))\n",
    "    cross_val(bestModel, m, X_train, y_train)\n",
    "    \n",
    "dict_y_pred={}\n",
    "for i, elem in enumerate(reg_models,1):\n",
    "    dict_m[model_names[i-1]] = fit_predict(elem, dict_y_pred, model_names[i-1])"
   ]
  },
  {
   "cell_type": "code",
   "execution_count": 13,
   "metadata": {},
   "outputs": [
    {
     "data": {
      "text/html": [
       "<div>\n",
       "<style scoped>\n",
       "    .dataframe tbody tr th:only-of-type {\n",
       "        vertical-align: middle;\n",
       "    }\n",
       "\n",
       "    .dataframe tbody tr th {\n",
       "        vertical-align: top;\n",
       "    }\n",
       "\n",
       "    .dataframe thead th {\n",
       "        text-align: right;\n",
       "    }\n",
       "</style>\n",
       "<table border=\"1\" class=\"dataframe\">\n",
       "  <thead>\n",
       "    <tr style=\"text-align: right;\">\n",
       "      <th></th>\n",
       "      <th>Regression_Model</th>\n",
       "      <th>RMSLE</th>\n",
       "    </tr>\n",
       "  </thead>\n",
       "  <tbody>\n",
       "    <tr>\n",
       "      <th>0</th>\n",
       "      <td>LinearRegression</td>\n",
       "      <td>1.222160</td>\n",
       "    </tr>\n",
       "    <tr>\n",
       "      <th>1</th>\n",
       "      <td>LassoCV</td>\n",
       "      <td>1.222800</td>\n",
       "    </tr>\n",
       "    <tr>\n",
       "      <th>2</th>\n",
       "      <td>RidgeCV</td>\n",
       "      <td>1.222452</td>\n",
       "    </tr>\n",
       "    <tr>\n",
       "      <th>3</th>\n",
       "      <td>ElasticNet</td>\n",
       "      <td>1.221137</td>\n",
       "    </tr>\n",
       "  </tbody>\n",
       "</table>\n",
       "</div>"
      ],
      "text/plain": [
       "   Regression_Model     RMSLE\n",
       "0  LinearRegression  1.222160\n",
       "1           LassoCV  1.222800\n",
       "2           RidgeCV  1.222452\n",
       "3        ElasticNet  1.221137"
      ]
     },
     "execution_count": 13,
     "metadata": {},
     "output_type": "execute_result"
    }
   ],
   "source": [
    "rmsle=[]   \n",
    "for reg in reg_models:    \n",
    "    reg.fit(X_train,y_train)\n",
    "    y_pred=abs(reg.predict(X_test))\n",
    "#     y_pred = np.expm1(y_pred)\n",
    "    y_pred[y_pred < 0] = 0 \n",
    "    if len(np.array(y_pred)[np.array(y_pred)< 0]) > 0 :\n",
    "        print(reg)\n",
    "        print('count of negative values: ', len(np.array(y_pred)[np.array(y_pred)< 0]),'\\n')    \n",
    "    rmsle.append(np.sqrt(mean_squared_log_error(y_pred,y_test)))            \n",
    "dict_rmsle={'Regression_Model':model_names,'RMSLE':rmsle}   \n",
    "dict_rmsle\n",
    "df_rmsle=pd.DataFrame(dict_rmsle)\n",
    "df_rmsle"
   ]
  },
  {
   "cell_type": "code",
   "execution_count": 14,
   "metadata": {},
   "outputs": [
    {
     "data": {
      "text/plain": [
       "<seaborn.axisgrid.FacetGrid at 0x2b752889688>"
      ]
     },
     "execution_count": 14,
     "metadata": {},
     "output_type": "execute_result"
    },
    {
     "data": {
      "image/png": "[encoded data removed]",
      "text/plain": [
       "<Figure size 1080x360 with 1 Axes>"
      ]
     },
     "metadata": {
      "needs_background": "light"
     },
     "output_type": "display_data"
    }
   ],
   "source": [
    "fig = sns.catplot(y='Regression_Model', x='RMSLE', data=df_rmsle,\n",
    "                  kind='bar',height=5,aspect=3)\n",
    "fig.set(xlim=(1.0, 1.5))"
   ]
  },
  {
   "cell_type": "code",
   "execution_count": null,
   "metadata": {},
   "outputs": [],
   "source": []
  }
 ],
 "metadata": {
  "kernelspec": {
   "display_name": "Python 3",
   "language": "python",
   "name": "python3"
  },
  "language_info": {
   "codemirror_mode": {
    "name": "ipython",
    "version": 3
   },
   "file_extension": ".py",
   "mimetype": "text/x-python",
   "name": "python",
   "nbconvert_exporter": "python",
   "pygments_lexer": "ipython3",
   "version": "3.7.7"
  }
 },
 "nbformat": 4,
 "nbformat_minor": 4
}
