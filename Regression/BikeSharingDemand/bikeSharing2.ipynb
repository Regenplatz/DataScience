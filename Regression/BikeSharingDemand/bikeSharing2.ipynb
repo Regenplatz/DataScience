{
 "cells": [
  {
   "cell_type": "markdown",
   "metadata": {},
   "source": [
    "# Metropolitan bicycle sharing system:  How many bicycles need to be ready at a given time\n",
    "## Regression Approach\n",
    "Data was taken from https://www.kaggle.com/c/bike-sharing-demand/data in April 2020.       \n",
    "Plots can be found in the notebook 'bikeSharing_visualPart'"
   ]
  },
  {
   "cell_type": "code",
   "execution_count": 1,
   "metadata": {},
   "outputs": [],
   "source": [
    "import pandas as pd\n",
    "import numpy as np\n",
    "from matplotlib import pyplot as plt\n",
    "import seaborn as sns\n",
    "from sklearn.preprocessing import MinMaxScaler\n",
    "from sklearn.model_selection import train_test_split, cross_validate, cross_val_score, GridSearchCV\n",
    "from sklearn.metrics import mean_squared_log_error\n",
    "from sklearn.ensemble import RandomForestRegressor, GradientBoostingRegressor, AdaBoostRegressor\n",
    "from sklearn.svm import SVR\n",
    "# import warnings\n",
    "# warnings.filterwarnings('ignore')"
   ]
  },
  {
   "cell_type": "code",
   "execution_count": 2,
   "metadata": {},
   "outputs": [
    {
     "data": {
      "text/html": [
       "<div>\n",
       "<style scoped>\n",
       "    .dataframe tbody tr th:only-of-type {\n",
       "        vertical-align: middle;\n",
       "    }\n",
       "\n",
       "    .dataframe tbody tr th {\n",
       "        vertical-align: top;\n",
       "    }\n",
       "\n",
       "    .dataframe thead th {\n",
       "        text-align: right;\n",
       "    }\n",
       "</style>\n",
       "<table border=\"1\" class=\"dataframe\">\n",
       "  <thead>\n",
       "    <tr style=\"text-align: right;\">\n",
       "      <th></th>\n",
       "      <th>holiday</th>\n",
       "      <th>workingday</th>\n",
       "      <th>weather</th>\n",
       "      <th>temp</th>\n",
       "      <th>humidity</th>\n",
       "      <th>windspeed</th>\n",
       "      <th>casual</th>\n",
       "      <th>registered</th>\n",
       "      <th>count</th>\n",
       "      <th>hour</th>\n",
       "      <th>...</th>\n",
       "      <th>year</th>\n",
       "      <th>summer</th>\n",
       "      <th>fall</th>\n",
       "      <th>winter</th>\n",
       "      <th>Monday</th>\n",
       "      <th>Wednesday</th>\n",
       "      <th>Thursday</th>\n",
       "      <th>Friday</th>\n",
       "      <th>Saturday</th>\n",
       "      <th>Sunday</th>\n",
       "    </tr>\n",
       "  </thead>\n",
       "  <tbody>\n",
       "    <tr>\n",
       "      <th>0</th>\n",
       "      <td>0</td>\n",
       "      <td>0</td>\n",
       "      <td>1</td>\n",
       "      <td>9.84</td>\n",
       "      <td>81</td>\n",
       "      <td>0.0</td>\n",
       "      <td>3</td>\n",
       "      <td>13</td>\n",
       "      <td>16</td>\n",
       "      <td>0</td>\n",
       "      <td>...</td>\n",
       "      <td>0</td>\n",
       "      <td>0</td>\n",
       "      <td>0</td>\n",
       "      <td>0</td>\n",
       "      <td>0</td>\n",
       "      <td>0</td>\n",
       "      <td>0</td>\n",
       "      <td>0</td>\n",
       "      <td>1</td>\n",
       "      <td>0</td>\n",
       "    </tr>\n",
       "    <tr>\n",
       "      <th>1</th>\n",
       "      <td>0</td>\n",
       "      <td>0</td>\n",
       "      <td>1</td>\n",
       "      <td>9.02</td>\n",
       "      <td>80</td>\n",
       "      <td>0.0</td>\n",
       "      <td>8</td>\n",
       "      <td>32</td>\n",
       "      <td>40</td>\n",
       "      <td>1</td>\n",
       "      <td>...</td>\n",
       "      <td>0</td>\n",
       "      <td>0</td>\n",
       "      <td>0</td>\n",
       "      <td>0</td>\n",
       "      <td>0</td>\n",
       "      <td>0</td>\n",
       "      <td>0</td>\n",
       "      <td>0</td>\n",
       "      <td>1</td>\n",
       "      <td>0</td>\n",
       "    </tr>\n",
       "    <tr>\n",
       "      <th>2</th>\n",
       "      <td>0</td>\n",
       "      <td>0</td>\n",
       "      <td>1</td>\n",
       "      <td>9.02</td>\n",
       "      <td>80</td>\n",
       "      <td>0.0</td>\n",
       "      <td>5</td>\n",
       "      <td>27</td>\n",
       "      <td>32</td>\n",
       "      <td>2</td>\n",
       "      <td>...</td>\n",
       "      <td>0</td>\n",
       "      <td>0</td>\n",
       "      <td>0</td>\n",
       "      <td>0</td>\n",
       "      <td>0</td>\n",
       "      <td>0</td>\n",
       "      <td>0</td>\n",
       "      <td>0</td>\n",
       "      <td>1</td>\n",
       "      <td>0</td>\n",
       "    </tr>\n",
       "    <tr>\n",
       "      <th>3</th>\n",
       "      <td>0</td>\n",
       "      <td>0</td>\n",
       "      <td>1</td>\n",
       "      <td>9.84</td>\n",
       "      <td>75</td>\n",
       "      <td>0.0</td>\n",
       "      <td>3</td>\n",
       "      <td>10</td>\n",
       "      <td>13</td>\n",
       "      <td>3</td>\n",
       "      <td>...</td>\n",
       "      <td>0</td>\n",
       "      <td>0</td>\n",
       "      <td>0</td>\n",
       "      <td>0</td>\n",
       "      <td>0</td>\n",
       "      <td>0</td>\n",
       "      <td>0</td>\n",
       "      <td>0</td>\n",
       "      <td>1</td>\n",
       "      <td>0</td>\n",
       "    </tr>\n",
       "    <tr>\n",
       "      <th>4</th>\n",
       "      <td>0</td>\n",
       "      <td>0</td>\n",
       "      <td>1</td>\n",
       "      <td>9.84</td>\n",
       "      <td>75</td>\n",
       "      <td>0.0</td>\n",
       "      <td>0</td>\n",
       "      <td>1</td>\n",
       "      <td>1</td>\n",
       "      <td>4</td>\n",
       "      <td>...</td>\n",
       "      <td>0</td>\n",
       "      <td>0</td>\n",
       "      <td>0</td>\n",
       "      <td>0</td>\n",
       "      <td>0</td>\n",
       "      <td>0</td>\n",
       "      <td>0</td>\n",
       "      <td>0</td>\n",
       "      <td>1</td>\n",
       "      <td>0</td>\n",
       "    </tr>\n",
       "  </tbody>\n",
       "</table>\n",
       "<p>5 rows × 21 columns</p>\n",
       "</div>"
      ],
      "text/plain": [
       "   holiday  workingday  weather  temp  humidity  windspeed  casual  \\\n",
       "0        0           0        1  9.84        81        0.0       3   \n",
       "1        0           0        1  9.02        80        0.0       8   \n",
       "2        0           0        1  9.02        80        0.0       5   \n",
       "3        0           0        1  9.84        75        0.0       3   \n",
       "4        0           0        1  9.84        75        0.0       0   \n",
       "\n",
       "   registered  count  hour  ...  year  summer  fall  winter  Monday  \\\n",
       "0          13     16     0  ...     0       0     0       0       0   \n",
       "1          32     40     1  ...     0       0     0       0       0   \n",
       "2          27     32     2  ...     0       0     0       0       0   \n",
       "3          10     13     3  ...     0       0     0       0       0   \n",
       "4           1      1     4  ...     0       0     0       0       0   \n",
       "\n",
       "   Wednesday  Thursday  Friday  Saturday  Sunday  \n",
       "0          0         0       0         1       0  \n",
       "1          0         0       0         1       0  \n",
       "2          0         0       0         1       0  \n",
       "3          0         0       0         1       0  \n",
       "4          0         0       0         1       0  \n",
       "\n",
       "[5 rows x 21 columns]"
      ]
     },
     "execution_count": 2,
     "metadata": {},
     "output_type": "execute_result"
    }
   ],
   "source": [
    "df = pd.read_csv('df_preprocessed.csv', index_col=None, parse_dates=True)\n",
    "df.head()"
   ]
  },
  {
   "cell_type": "markdown",
   "metadata": {},
   "source": [
    "#### Data Assignment and Scaling"
   ]
  },
  {
   "cell_type": "code",
   "execution_count": 3,
   "metadata": {},
   "outputs": [],
   "source": [
    "Xy = df[['holiday', 'workingday', 'weather', 'temp', 'humidity', 'windspeed',\n",
    "        'count', 'hour', 'month', 'year', 'summer', 'fall', 'winter', 'Monday', \n",
    "        'Wednesday', 'Thursday', 'Friday', 'Saturday', 'Sunday']]\n",
    "y = Xy['count']\n",
    "X = Xy.drop(['count'], axis=1)"
   ]
  },
  {
   "cell_type": "code",
   "execution_count": 4,
   "metadata": {},
   "outputs": [
    {
     "data": {
      "text/html": [
       "<div>\n",
       "<style scoped>\n",
       "    .dataframe tbody tr th:only-of-type {\n",
       "        vertical-align: middle;\n",
       "    }\n",
       "\n",
       "    .dataframe tbody tr th {\n",
       "        vertical-align: top;\n",
       "    }\n",
       "\n",
       "    .dataframe thead th {\n",
       "        text-align: right;\n",
       "    }\n",
       "</style>\n",
       "<table border=\"1\" class=\"dataframe\">\n",
       "  <thead>\n",
       "    <tr style=\"text-align: right;\">\n",
       "      <th></th>\n",
       "      <th>holiday</th>\n",
       "      <th>workingday</th>\n",
       "      <th>weather</th>\n",
       "      <th>temp</th>\n",
       "      <th>humidity</th>\n",
       "      <th>windspeed</th>\n",
       "      <th>casual</th>\n",
       "      <th>registered</th>\n",
       "      <th>count</th>\n",
       "      <th>hour</th>\n",
       "      <th>...</th>\n",
       "      <th>year</th>\n",
       "      <th>summer</th>\n",
       "      <th>fall</th>\n",
       "      <th>winter</th>\n",
       "      <th>Monday</th>\n",
       "      <th>Wednesday</th>\n",
       "      <th>Thursday</th>\n",
       "      <th>Friday</th>\n",
       "      <th>Saturday</th>\n",
       "      <th>Sunday</th>\n",
       "    </tr>\n",
       "  </thead>\n",
       "  <tbody>\n",
       "    <tr>\n",
       "      <th>10881</th>\n",
       "      <td>0</td>\n",
       "      <td>1</td>\n",
       "      <td>1</td>\n",
       "      <td>0.367347</td>\n",
       "      <td>0.50</td>\n",
       "      <td>0.456213</td>\n",
       "      <td>7</td>\n",
       "      <td>329</td>\n",
       "      <td>336</td>\n",
       "      <td>0.826087</td>\n",
       "      <td>...</td>\n",
       "      <td>1.0</td>\n",
       "      <td>0</td>\n",
       "      <td>0</td>\n",
       "      <td>1</td>\n",
       "      <td>0</td>\n",
       "      <td>1</td>\n",
       "      <td>0</td>\n",
       "      <td>0</td>\n",
       "      <td>0</td>\n",
       "      <td>0</td>\n",
       "    </tr>\n",
       "    <tr>\n",
       "      <th>10882</th>\n",
       "      <td>0</td>\n",
       "      <td>1</td>\n",
       "      <td>1</td>\n",
       "      <td>0.346939</td>\n",
       "      <td>0.57</td>\n",
       "      <td>0.263195</td>\n",
       "      <td>10</td>\n",
       "      <td>231</td>\n",
       "      <td>241</td>\n",
       "      <td>0.869565</td>\n",
       "      <td>...</td>\n",
       "      <td>1.0</td>\n",
       "      <td>0</td>\n",
       "      <td>0</td>\n",
       "      <td>1</td>\n",
       "      <td>0</td>\n",
       "      <td>1</td>\n",
       "      <td>0</td>\n",
       "      <td>0</td>\n",
       "      <td>0</td>\n",
       "      <td>0</td>\n",
       "    </tr>\n",
       "    <tr>\n",
       "      <th>10883</th>\n",
       "      <td>0</td>\n",
       "      <td>1</td>\n",
       "      <td>1</td>\n",
       "      <td>0.326531</td>\n",
       "      <td>0.61</td>\n",
       "      <td>0.263195</td>\n",
       "      <td>4</td>\n",
       "      <td>164</td>\n",
       "      <td>168</td>\n",
       "      <td>0.913043</td>\n",
       "      <td>...</td>\n",
       "      <td>1.0</td>\n",
       "      <td>0</td>\n",
       "      <td>0</td>\n",
       "      <td>1</td>\n",
       "      <td>0</td>\n",
       "      <td>1</td>\n",
       "      <td>0</td>\n",
       "      <td>0</td>\n",
       "      <td>0</td>\n",
       "      <td>0</td>\n",
       "    </tr>\n",
       "    <tr>\n",
       "      <th>10884</th>\n",
       "      <td>0</td>\n",
       "      <td>1</td>\n",
       "      <td>1</td>\n",
       "      <td>0.326531</td>\n",
       "      <td>0.61</td>\n",
       "      <td>0.105325</td>\n",
       "      <td>12</td>\n",
       "      <td>117</td>\n",
       "      <td>129</td>\n",
       "      <td>0.956522</td>\n",
       "      <td>...</td>\n",
       "      <td>1.0</td>\n",
       "      <td>0</td>\n",
       "      <td>0</td>\n",
       "      <td>1</td>\n",
       "      <td>0</td>\n",
       "      <td>1</td>\n",
       "      <td>0</td>\n",
       "      <td>0</td>\n",
       "      <td>0</td>\n",
       "      <td>0</td>\n",
       "    </tr>\n",
       "    <tr>\n",
       "      <th>10885</th>\n",
       "      <td>0</td>\n",
       "      <td>1</td>\n",
       "      <td>1</td>\n",
       "      <td>0.306122</td>\n",
       "      <td>0.66</td>\n",
       "      <td>0.157870</td>\n",
       "      <td>4</td>\n",
       "      <td>84</td>\n",
       "      <td>88</td>\n",
       "      <td>1.000000</td>\n",
       "      <td>...</td>\n",
       "      <td>1.0</td>\n",
       "      <td>0</td>\n",
       "      <td>0</td>\n",
       "      <td>1</td>\n",
       "      <td>0</td>\n",
       "      <td>1</td>\n",
       "      <td>0</td>\n",
       "      <td>0</td>\n",
       "      <td>0</td>\n",
       "      <td>0</td>\n",
       "    </tr>\n",
       "  </tbody>\n",
       "</table>\n",
       "<p>5 rows × 21 columns</p>\n",
       "</div>"
      ],
      "text/plain": [
       "       holiday  workingday  weather      temp  humidity  windspeed  casual  \\\n",
       "10881        0           1        1  0.367347      0.50   0.456213       7   \n",
       "10882        0           1        1  0.346939      0.57   0.263195      10   \n",
       "10883        0           1        1  0.326531      0.61   0.263195       4   \n",
       "10884        0           1        1  0.326531      0.61   0.105325      12   \n",
       "10885        0           1        1  0.306122      0.66   0.157870       4   \n",
       "\n",
       "       registered  count      hour  ...  year  summer  fall  winter  Monday  \\\n",
       "10881         329    336  0.826087  ...   1.0       0     0       1       0   \n",
       "10882         231    241  0.869565  ...   1.0       0     0       1       0   \n",
       "10883         164    168  0.913043  ...   1.0       0     0       1       0   \n",
       "10884         117    129  0.956522  ...   1.0       0     0       1       0   \n",
       "10885          84     88  1.000000  ...   1.0       0     0       1       0   \n",
       "\n",
       "       Wednesday  Thursday  Friday  Saturday  Sunday  \n",
       "10881          1         0       0         0       0  \n",
       "10882          1         0       0         0       0  \n",
       "10883          1         0       0         0       0  \n",
       "10884          1         0       0         0       0  \n",
       "10885          1         0       0         0       0  \n",
       "\n",
       "[5 rows x 21 columns]"
      ]
     },
     "execution_count": 4,
     "metadata": {},
     "output_type": "execute_result"
    }
   ],
   "source": [
    "scaler = MinMaxScaler(feature_range=(0, 1))\n",
    "df[['temp', 'humidity', 'windspeed', 'hour', 'month', 'year']] = scaler.fit_transform(df[['temp', 'humidity', 'windspeed', 'hour', 'month', 'year']])\n",
    "df.tail()"
   ]
  },
  {
   "cell_type": "code",
   "execution_count": 5,
   "metadata": {},
   "outputs": [],
   "source": [
    "X_train, X_test, y_train, y_test = train_test_split(X,y, test_size=0.2, random_state=45883)"
   ]
  },
  {
   "cell_type": "markdown",
   "metadata": {},
   "source": [
    "## Machine Learning: Try different regression models\n",
    "#### Random Forest Regressor"
   ]
  },
  {
   "cell_type": "code",
   "execution_count": 6,
   "metadata": {},
   "outputs": [
    {
     "name": "stdout",
     "output_type": "stream",
     "text": [
      "best score: 0.9483045163641625\n",
      "{'bootstrap': True, 'max_depth': 15, 'n_estimators': 400}\n"
     ]
    }
   ],
   "source": [
    "rf = RandomForestRegressor(random_state=42378, n_jobs=-1)\n",
    "param_grid_rf = {'n_estimators' : [20,50,80,120,150,200,250,300,350,400],\n",
    "                'max_depth': [5,7,9,11,13,15],\n",
    "                'bootstrap': [True, False]}\n",
    "grid_rf = GridSearchCV(estimator=rf, param_grid=param_grid_rf, cv=13)\n",
    "grid_result_rf = grid_rf.fit(X_train, y_train)\n",
    "print(\"best score: \" +  str(grid_rf.best_score_))\n",
    "print(grid_rf.best_params_)"
   ]
  },
  {
   "cell_type": "markdown",
   "metadata": {},
   "source": [
    "You could plot *score* vs *parameter settings*. Exemplarily shown for *n_estimators* for RandomForestRegressor:"
   ]
  },
  {
   "cell_type": "code",
   "execution_count": 7,
   "metadata": {},
   "outputs": [
    {
     "data": {
      "image/png": "[encoded data removed]",
      "text/plain": [
       "<Figure size 864x432 with 2 Axes>"
      ]
     },
     "metadata": {
      "needs_background": "light"
     },
     "output_type": "display_data"
    }
   ],
   "source": [
    "rf_nEstimators = RandomForestRegressor(random_state=42378, n_jobs=-1)\n",
    "param_grid_rf_nEstimators = {'n_estimators' : [20,50,80,120,150,200,250,300,350,400]}\n",
    "grid_rf_nEstimators = GridSearchCV(estimator=rf_nEstimators, param_grid=param_grid_rf_nEstimators)\n",
    "grid_result_rf_nEstimators = grid_rf_nEstimators.fit(X_train, y_train)\n",
    "\n",
    "def plot_parameters(params, bestreg, parameter):\n",
    "    plt.figure(figsize=(12,6))\n",
    "    plt.subplot(121)\n",
    "    plt.plot(params[parameter],bestreg.cv_results_['mean_test_score'],'o-')\n",
    "    plt.xlabel(parameter)\n",
    "    plt.ylabel('score mean')\n",
    "    plt.subplot(122)\n",
    "    plt.plot(params[parameter],bestreg.cv_results_['std_test_score'],'o-')\n",
    "    plt.xlabel(parameter)\n",
    "    plt.ylabel('score std')\n",
    "    plt.tight_layout()\n",
    "    plt.show()    \n",
    "\n",
    "params={'n_estimators':[20,50,80,120,150,200,250,300,350,400]}\n",
    "bestreg=grid_rf_nEstimators\n",
    "plot_parameters(params, bestreg, 'n_estimators')"
   ]
  },
  {
   "cell_type": "markdown",
   "metadata": {},
   "source": [
    "#### AdaBoost Regressor"
   ]
  },
  {
   "cell_type": "code",
   "execution_count": 8,
   "metadata": {},
   "outputs": [
    {
     "name": "stdout",
     "output_type": "stream",
     "text": [
      "best score: 0.952878749213086\n",
      "{'base_estimator': RandomForestRegressor(n_jobs=-1, random_state=42378), 'learning_rate': 1, 'n_estimators': 50}\n"
     ]
    }
   ],
   "source": [
    "adr = AdaBoostRegressor(random_state=0)\n",
    "param_grid_adr = {'base_estimator': [RandomForestRegressor(random_state=42378, n_jobs=-1)],\n",
    "                  'n_estimators': [3,5,7,9,15,20,50,75,100],\n",
    "                  'learning_rate': [0.1, 1, 2, 5]}\n",
    "grid_adr = GridSearchCV(estimator=adr, param_grid=param_grid_adr, cv=5)\n",
    "grid_result_adr = grid_adr.fit(X_train, y_train)\n",
    "print(\"best score: \" + str(grid_adr.best_score_))\n",
    "print(grid_adr.best_params_)"
   ]
  },
  {
   "cell_type": "raw",
   "metadata": {},
   "source": [
    "adr = AdaBoostRegressor(random_state=0)\n",
    "param_grid_adr = {'base_estimator': [GradientBoostingRegressor(random_state=33, learning_rate=0.1, n_estimators=100, max_depth=9)],\n",
    "                  'n_estimators': [3,5,7,9,15,20,50,75,100],\n",
    "                  'learning_rate': [0.1, 1, 2, 5]}\n",
    "grid_adr = GridSearchCV(estimator=adr, param_grid=param_grid_adr, cv=5)\n",
    "grid_result_adr = grid_adr.fit(X_train, y_train)\n",
    "print(\"best score: \" + str(grid_adr.best_score_))\n",
    "print(grid_adr.best_params_)"
   ]
  },
  {
   "cell_type": "markdown",
   "metadata": {},
   "source": [
    "#### Gradient Boosting Regressor"
   ]
  },
  {
   "cell_type": "code",
   "execution_count": 9,
   "metadata": {},
   "outputs": [
    {
     "name": "stdout",
     "output_type": "stream",
     "text": [
      "best score: 0.9553603494253722\n",
      "{'learning_rate': 0.1, 'max_depth': 9, 'n_estimators': 100}\n"
     ]
    }
   ],
   "source": [
    "gbr = GradientBoostingRegressor(random_state=33)\n",
    "param_grid_gbr = {'n_estimators': [3,5,7,9,15,20,50,75,100],\n",
    "                  'max_depth': [5,7,9,11,13,15],\n",
    "                  'learning_rate': [0.1, 1, 2]}\n",
    "grid_gbr = GridSearchCV(estimator=gbr, param_grid=param_grid_gbr, cv=13)\n",
    "grid_result_gbr = grid_gbr.fit(X_train, y_train)\n",
    "print(\"best score: \" +  str(grid_gbr.best_score_))\n",
    "print(grid_gbr.best_params_)"
   ]
  },
  {
   "cell_type": "markdown",
   "metadata": {},
   "source": [
    "#### Support Vector Regressor"
   ]
  },
  {
   "cell_type": "code",
   "execution_count": 10,
   "metadata": {},
   "outputs": [
    {
     "name": "stdout",
     "output_type": "stream",
     "text": [
      "best score: 0.5865156592645706\n",
      "{'C': 100, 'degree': 3, 'gamma': 'auto'}\n"
     ]
    }
   ],
   "source": [
    "svr = SVR()\n",
    "param_grid_svr = {'C': [0.01, 0.1, 1, 10, 100],\n",
    "                  'degree': range(3,7),\n",
    "                  'gamma': ['scale','auto']}\n",
    "grid_svr = GridSearchCV(estimator=svr, param_grid=param_grid_svr, cv=5)\n",
    "grid_result_svr = grid_svr.fit(X_train, y_train)\n",
    "print(\"best score: \" + str(grid_svr.best_score_))\n",
    "print(grid_svr.best_params_)"
   ]
  },
  {
   "cell_type": "markdown",
   "metadata": {},
   "source": [
    "### Cross Validation"
   ]
  },
  {
   "cell_type": "code",
   "execution_count": 11,
   "metadata": {},
   "outputs": [],
   "source": [
    "def cross_val(model, m, X_train, y_train):\n",
    "    cvValue_mean = []\n",
    "    for i in range(5,15):       \n",
    "        cross_val_L = cross_val_score(m, X_train, y_train, cv=i) \n",
    "        cvValue_mean.append([i,cross_val_L.mean()])\n",
    "    df_cvValue_mean = pd.DataFrame(cvValue_mean)\n",
    "    df_cvValue_mean.rename(columns={0:'cv_set_value', 1:'cv_res_mean'}, inplace = True)\n",
    "    df_cvValue_mean.set_index(['cv_set_value'], inplace=True)\n",
    "    print(df_cvValue_mean['cv_res_mean'].sort_values(ascending=False), '\\n\\n')"
   ]
  },
  {
   "cell_type": "markdown",
   "metadata": {},
   "source": [
    "### Model Assignment"
   ]
  },
  {
   "cell_type": "code",
   "execution_count": 14,
   "metadata": {},
   "outputs": [],
   "source": [
    "reg_models = [RandomForestRegressor(random_state=42378, n_jobs=-1, n_estimators=350, max_depth=15, bootstrap=True),\n",
    "              AdaBoostRegressor(random_state=0, base_estimator=RandomForestRegressor(n_jobs=-1, random_state=42378), n_estimators=50, learning_rate=1),\n",
    "              GradientBoostingRegressor(random_state=33, learning_rate=0.1, n_estimators=100, max_depth=9), \n",
    "              SVR(C=100, degree=3, gamma='auto')]\n",
    "model_names = ['RandomForestRegressor','AdaBoostRegressor','GradientBoostingRegressor','SVR']\n",
    "dict_m = {}"
   ]
  },
  {
   "cell_type": "markdown",
   "metadata": {},
   "source": [
    "### Fit and Predict"
   ]
  },
  {
   "cell_type": "code",
   "execution_count": 15,
   "metadata": {},
   "outputs": [
    {
     "name": "stdout",
     "output_type": "stream",
     "text": [
      "RandomForestRegressor(max_depth=15, n_estimators=350, n_jobs=-1,\n",
      "                      random_state=42378)\n",
      "Score(X_train, y_train):  0.9894775857478668\n",
      "Score(X_test, y_test):  0.945817856941645\n",
      "RMSLE:  0.31831134342645606\n",
      "cv_set_value\n",
      "13    0.948250\n",
      "10    0.948012\n",
      "9     0.947993\n",
      "14    0.947910\n",
      "11    0.947680\n",
      "8     0.947594\n",
      "7     0.947459\n",
      "12    0.947274\n",
      "6     0.946883\n",
      "5     0.946472\n",
      "Name: cv_res_mean, dtype: float64 \n",
      "\n",
      "\n",
      "AdaBoostRegressor(base_estimator=RandomForestRegressor(n_jobs=-1,\n",
      "                                                       random_state=42378),\n",
      "                  learning_rate=1, random_state=0)\n",
      "Score(X_train, y_train):  0.9982137456288263\n",
      "Score(X_test, y_test):  0.9477168545416235\n",
      "RMSLE:  0.407426882673246\n",
      "cv_set_value\n",
      "13    0.956059\n",
      "14    0.955646\n",
      "9     0.955227\n",
      "11    0.955040\n",
      "10    0.954977\n",
      "8     0.954954\n",
      "12    0.954816\n",
      "7     0.954057\n",
      "6     0.953798\n",
      "5     0.952879\n",
      "Name: cv_res_mean, dtype: float64 \n",
      "\n",
      "\n",
      "GradientBoostingRegressor(max_depth=9, random_state=33)\n",
      "Score(X_train, y_train):  0.9949478791660109\n",
      "Score(X_test, y_test):  0.9538992720253575\n",
      "RMSLE:  0.33498926767468284\n",
      "cv_set_value\n",
      "14    0.955784\n",
      "7     0.955365\n",
      "13    0.955360\n",
      "12    0.955290\n",
      "8     0.955203\n",
      "11    0.955162\n",
      "9     0.955086\n",
      "10    0.954943\n",
      "5     0.954495\n",
      "6     0.953729\n",
      "Name: cv_res_mean, dtype: float64 \n",
      "\n",
      "\n",
      "SVR(C=100, gamma='auto')\n",
      "Score(X_train, y_train):  0.7762517877107534\n",
      "Score(X_test, y_test):  0.6042683500118313\n",
      "RMSLE:  0.8172434091502127\n",
      "cv_set_value\n",
      "14    0.603982\n",
      "13    0.603761\n",
      "12    0.602068\n",
      "11    0.601468\n",
      "10    0.600089\n",
      "9     0.599991\n",
      "8     0.597279\n",
      "7     0.594761\n",
      "6     0.590243\n",
      "5     0.586516\n",
      "Name: cv_res_mean, dtype: float64 \n",
      "\n",
      "\n"
     ]
    }
   ],
   "source": [
    "def fit_predict(bestModel, dict_yPred, modelName):\n",
    "    m = bestModel\n",
    "    m.fit(X_train, y_train)\n",
    "    print(bestModel)\n",
    "    print('Score(X_train, y_train): ', m.score(X_train, y_train))\n",
    "    y_pred = m.predict(X_test)    \n",
    "    y_pred[y_pred < 0] = 0         \n",
    "    dict_yPred[modelName] = y_pred\n",
    "    print('Score(X_test, y_test): ', m.score(X_test, y_test))   \n",
    "    print('RMSLE: ', np.sqrt(mean_squared_log_error(y_test, y_pred)))\n",
    "    cross_val(bestModel, m, X_train, y_train)\n",
    "    \n",
    "dict_y_pred={}\n",
    "for i, elem in enumerate(reg_models,1):\n",
    "    dict_m[model_names[i-1]] = fit_predict(elem, dict_y_pred, model_names[i-1])"
   ]
  },
  {
   "cell_type": "code",
   "execution_count": 16,
   "metadata": {},
   "outputs": [
    {
     "data": {
      "text/html": [
       "<div>\n",
       "<style scoped>\n",
       "    .dataframe tbody tr th:only-of-type {\n",
       "        vertical-align: middle;\n",
       "    }\n",
       "\n",
       "    .dataframe tbody tr th {\n",
       "        vertical-align: top;\n",
       "    }\n",
       "\n",
       "    .dataframe thead th {\n",
       "        text-align: right;\n",
       "    }\n",
       "</style>\n",
       "<table border=\"1\" class=\"dataframe\">\n",
       "  <thead>\n",
       "    <tr style=\"text-align: right;\">\n",
       "      <th></th>\n",
       "      <th>Regression_Model</th>\n",
       "      <th>RMSLE</th>\n",
       "    </tr>\n",
       "  </thead>\n",
       "  <tbody>\n",
       "    <tr>\n",
       "      <th>0</th>\n",
       "      <td>RandomForestRegressor</td>\n",
       "      <td>0.318311</td>\n",
       "    </tr>\n",
       "    <tr>\n",
       "      <th>1</th>\n",
       "      <td>AdaBoostRegressor</td>\n",
       "      <td>0.407427</td>\n",
       "    </tr>\n",
       "    <tr>\n",
       "      <th>2</th>\n",
       "      <td>GradientBoostingRegressor</td>\n",
       "      <td>0.314924</td>\n",
       "    </tr>\n",
       "    <tr>\n",
       "      <th>3</th>\n",
       "      <td>SVR</td>\n",
       "      <td>0.754808</td>\n",
       "    </tr>\n",
       "  </tbody>\n",
       "</table>\n",
       "</div>"
      ],
      "text/plain": [
       "            Regression_Model     RMSLE\n",
       "0      RandomForestRegressor  0.318311\n",
       "1          AdaBoostRegressor  0.407427\n",
       "2  GradientBoostingRegressor  0.314924\n",
       "3                        SVR  0.754808"
      ]
     },
     "execution_count": 16,
     "metadata": {},
     "output_type": "execute_result"
    }
   ],
   "source": [
    "rmsle=[]   \n",
    "for reg in reg_models:    \n",
    "    reg.fit(X_train,y_train)\n",
    "    y_pred=abs(reg.predict(X_test))    \n",
    "    y_pred[y_pred < 0] = 0 \n",
    "    if len(np.array(y_pred)[np.array(y_pred)< 0]) > 0 :\n",
    "        print(reg)\n",
    "        print('count of negative values: ', len(np.array(y_pred)[np.array(y_pred)< 0]),'\\n')    \n",
    "    rmsle.append(np.sqrt(mean_squared_log_error(y_pred,y_test)))            \n",
    "dict_rmsle={'Regression_Model':model_names,'RMSLE':rmsle}   \n",
    "dict_rmsle\n",
    "df_rmsle=pd.DataFrame(dict_rmsle)\n",
    "df_rmsle"
   ]
  },
  {
   "cell_type": "code",
   "execution_count": 17,
   "metadata": {},
   "outputs": [
    {
     "data": {
      "text/plain": [
       "<seaborn.axisgrid.FacetGrid at 0x26a7cd39988>"
      ]
     },
     "execution_count": 17,
     "metadata": {},
     "output_type": "execute_result"
    },
    {
     "data": {
      "image/png": "[encoded data removed]",
      "text/plain": [
       "<Figure size 1080x360 with 1 Axes>"
      ]
     },
     "metadata": {
      "needs_background": "light"
     },
     "output_type": "display_data"
    }
   ],
   "source": [
    "fig = sns.catplot(y='Regression_Model', x='RMSLE', data=df_rmsle,\n",
    "                  kind='bar',height=5,aspect=3)\n",
    "fig.set(xlim=(0.2, 0.9))"
   ]
  },
  {
   "cell_type": "code",
   "execution_count": null,
   "metadata": {},
   "outputs": [],
   "source": []
  }
 ],
 "metadata": {
  "kernelspec": {
   "display_name": "Python 3",
   "language": "python",
   "name": "python3"
  },
  "language_info": {
   "codemirror_mode": {
    "name": "ipython",
    "version": 3
   },
   "file_extension": ".py",
   "mimetype": "text/x-python",
   "name": "python",
   "nbconvert_exporter": "python",
   "pygments_lexer": "ipython3",
   "version": "3.7.7"
  }
 },
 "nbformat": 4,
 "nbformat_minor": 4
}
