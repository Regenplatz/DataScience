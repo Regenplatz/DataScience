{
 "cells": [
  {
   "cell_type": "code",
   "execution_count": 11,
   "metadata": {},
   "outputs": [],
   "source": [
    "from tensorflow.keras.models import Sequential\n",
    "from tensorflow.keras.layers import Input, Dense, Flatten, Conv2D, MaxPooling2D, Activation\n",
    "from tensorflow.keras.applications import MobileNet\n",
    "from tensorflow.keras.utils import to_categorical, plot_model\n",
    "\n",
    "from tensorflow.keras.datasets import mnist\n",
    "import numpy as np\n",
    "from matplotlib import pyplot as plt\n",
    "\n",
    "# import warnings\n",
    "# warnings.filterwarnings('ignore')"
   ]
  },
  {
   "cell_type": "code",
   "execution_count": 3,
   "metadata": {},
   "outputs": [],
   "source": [
    "# load data\n",
    "(X_train, y_train), (X_test, y_test) = mnist.load_data()"
   ]
  },
  {
   "cell_type": "code",
   "execution_count": 4,
   "metadata": {},
   "outputs": [],
   "source": [
    "# adapt input dimension to 4D\n",
    "X_test_reshaped = np.expand_dims(X_test, axis=3)\n",
    "X_train_reshaped = np.expand_dims(X_train, axis=3)"
   ]
  },
  {
   "cell_type": "code",
   "execution_count": 5,
   "metadata": {},
   "outputs": [],
   "source": [
    "# assign outputs\n",
    "y_test_categorical = to_categorical(y_test)\n",
    "y_train_categorical = to_categorical(y_train)"
   ]
  },
  {
   "cell_type": "markdown",
   "metadata": {},
   "source": [
    "## Build the Model"
   ]
  },
  {
   "cell_type": "code",
   "execution_count": 6,
   "metadata": {},
   "outputs": [],
   "source": [
    "# model definition\n",
    "model = Sequential([\n",
    "    Conv2D(32, kernel_size=(3,3), strides=(2,2), activation='relu', input_shape=(28,28,1)),\n",
    "    MaxPooling2D(pool_size=(3,3), strides=(2,2)),\n",
    "    Flatten(),\n",
    "    Dense(10, activation='softmax')\n",
    "])"
   ]
  },
  {
   "cell_type": "code",
   "execution_count": 7,
   "metadata": {},
   "outputs": [],
   "source": [
    "# compile model\n",
    "model.compile(optimizer='rmsprop', loss='categorical_crossentropy', metrics=['accuracy']) \n",
    "#instead of 'rmsprop' you could use 'adam' or 'gradientdescent' as optimizer"
   ]
  },
  {
   "cell_type": "raw",
   "metadata": {},
   "source": [
    "# fit\n",
    "model.fit(X_train_reshaped,y_train_categorical, \n",
    "          epochs=5, \n",
    "          batch_size=32)"
   ]
  },
  {
   "cell_type": "code",
   "execution_count": 48,
   "metadata": {},
   "outputs": [
    {
     "name": "stdout",
     "output_type": "stream",
     "text": [
      "Train on 60000 samples\n",
      "Epoch 1/30\n",
      "60000/60000 [==============================] - 3s 56us/sample - loss: 0.2081 - accuracy: 0.9384\n",
      "Epoch 2/30\n",
      "60000/60000 [==============================] - 5s 76us/sample - loss: 0.2041 - accuracy: 0.9398\n",
      "Epoch 3/30\n",
      "60000/60000 [==============================] - 5s 77us/sample - loss: 0.2066 - accuracy: 0.9402\n",
      "Epoch 4/30\n",
      "60000/60000 [==============================] - 3s 54us/sample - loss: 0.1992 - accuracy: 0.9404\n",
      "Epoch 5/30\n",
      "60000/60000 [==============================] - 4s 75us/sample - loss: 0.2049 - accuracy: 0.9393\n",
      "Epoch 6/30\n",
      "60000/60000 [==============================] - 4s 68us/sample - loss: 0.2041 - accuracy: 0.9392\n",
      "Epoch 7/30\n",
      "60000/60000 [==============================] - 3s 56us/sample - loss: 0.2028 - accuracy: 0.9399\n",
      "Epoch 8/30\n",
      "60000/60000 [==============================] - 5s 81us/sample - loss: 0.2039 - accuracy: 0.9391\n",
      "Epoch 9/30\n",
      "60000/60000 [==============================] - 4s 62us/sample - loss: 0.1965 - accuracy: 0.9413\n",
      "Epoch 10/30\n",
      "60000/60000 [==============================] - 4s 60us/sample - loss: 0.2029 - accuracy: 0.9396\n",
      "Epoch 11/30\n",
      "60000/60000 [==============================] - 5s 76us/sample - loss: 0.1991 - accuracy: 0.9407\n",
      "Epoch 12/30\n",
      "60000/60000 [==============================] - 4s 62us/sample - loss: 0.1994 - accuracy: 0.9409\n",
      "Epoch 13/30\n",
      "60000/60000 [==============================] - 4s 61us/sample - loss: 0.1994 - accuracy: 0.9401\n",
      "Epoch 14/30\n",
      "60000/60000 [==============================] - 5s 76us/sample - loss: 0.1977 - accuracy: 0.9409\n",
      "Epoch 15/30\n",
      "60000/60000 [==============================] - 4s 61us/sample - loss: 0.2232 - accuracy: 0.9347\n",
      "Epoch 16/30\n",
      "60000/60000 [==============================] - 3s 57us/sample - loss: 0.1831 - accuracy: 0.9447\n",
      "Epoch 17/30\n",
      "60000/60000 [==============================] - 5s 76us/sample - loss: 0.1990 - accuracy: 0.9404\n",
      "Epoch 18/30\n",
      "60000/60000 [==============================] - 3s 55us/sample - loss: 0.1945 - accuracy: 0.9416\n",
      "Epoch 19/30\n",
      "60000/60000 [==============================] - 3s 55us/sample - loss: 0.1989 - accuracy: 0.9405\n",
      "Epoch 20/30\n",
      "60000/60000 [==============================] - 5s 75us/sample - loss: 0.1985 - accuracy: 0.9411\n",
      "Epoch 21/30\n",
      "60000/60000 [==============================] - 3s 55us/sample - loss: 0.1983 - accuracy: 0.9413\n",
      "Epoch 22/30\n",
      "60000/60000 [==============================] - 3s 55us/sample - loss: 0.1947 - accuracy: 0.9417\n",
      "Epoch 23/30\n",
      "60000/60000 [==============================] - 4s 70us/sample - loss: 0.1982 - accuracy: 0.9418\n",
      "Epoch 24/30\n",
      "60000/60000 [==============================] - 4s 64us/sample - loss: 0.1951 - accuracy: 0.9429s - loss: 0.1945 \n",
      "Epoch 25/30\n",
      "60000/60000 [==============================] - 3s 48us/sample - loss: 0.1950 - accuracy: 0.9415\n",
      "Epoch 26/30\n",
      "60000/60000 [==============================] - 4s 72us/sample - loss: 0.1944 - accuracy: 0.9416\n",
      "Epoch 27/30\n",
      "60000/60000 [==============================] - 4s 63us/sample - loss: 0.1918 - accuracy: 0.9426\n",
      "Epoch 28/30\n",
      "60000/60000 [==============================] - 3s 48us/sample - loss: 0.1916 - accuracy: 0.9434\n",
      "Epoch 29/30\n",
      "60000/60000 [==============================] - 4s 73us/sample - loss: 0.1942 - accuracy: 0.9411\n",
      "Epoch 30/30\n",
      "60000/60000 [==============================] - 4s 63us/sample - loss: 0.1919 - accuracy: 0.9422\n"
     ]
    },
    {
     "name": "stderr",
     "output_type": "stream",
     "text": [
      "No handles with labels found to put in legend.\n"
     ]
    },
    {
     "data": {
      "image/png": "[encoded data removed]",
      "text/plain": [
       "<Figure size 432x288 with 1 Axes>"
      ]
     },
     "metadata": {
      "needs_background": "light"
     },
     "output_type": "display_data"
    }
   ],
   "source": [
    "historyPlot = model.fit(X_train_reshaped,y_train_categorical, epochs=30, batch_size=1000)\n",
    "\n",
    "plt.plot(historyPlot.history['loss'])\n",
    "\n",
    "plt.title('loss')\n",
    "plt.ylabel('loss')\n",
    "plt.xlabel('epochs')\n",
    "plt.legend(loc='upper left')\n",
    "plt.show()"
   ]
  },
  {
   "cell_type": "code",
   "execution_count": 49,
   "metadata": {},
   "outputs": [
    {
     "data": {
      "image/png": "[encoded data removed]",
      "text/plain": [
       "<Figure size 432x288 with 1 Axes>"
      ]
     },
     "metadata": {
      "needs_background": "light"
     },
     "output_type": "display_data"
    }
   ],
   "source": [
    "plt.plot(historyPlot.history['accuracy'])\n",
    "\n",
    "plt.title('accuracy')\n",
    "plt.ylabel('accuracy')\n",
    "plt.xlabel('epoch')\n",
    "plt.legend(['accuracy'], loc='upper right')\n",
    "plt.show()"
   ]
  },
  {
   "cell_type": "code",
   "execution_count": 37,
   "metadata": {},
   "outputs": [
    {
     "name": "stdout",
     "output_type": "stream",
     "text": [
      "10000/10000 [==============================] - 0s 47us/sample - loss: 0.3152 - accuracy: 0.9166\n"
     ]
    },
    {
     "data": {
      "text/plain": [
       "[0.31521528137773275, 0.9166]"
      ]
     },
     "execution_count": 37,
     "metadata": {},
     "output_type": "execute_result"
    }
   ],
   "source": [
    "# predict\n",
    "model.evaluate(X_test_reshaped, y_test_categorical)"
   ]
  },
  {
   "cell_type": "code",
   "execution_count": 38,
   "metadata": {},
   "outputs": [
    {
     "name": "stdout",
     "output_type": "stream",
     "text": [
      "60000/60000 [==============================] - 3s 43us/sample - loss: 0.3205 - accuracy: 0.9168\n"
     ]
    }
   ],
   "source": [
    "# score=model.evaluate(X_test_reshaped, y_test_categorical)\n",
    "score=model.evaluate(X_train_reshaped, y_train_categorical)"
   ]
  },
  {
   "cell_type": "markdown",
   "metadata": {},
   "source": [
    "## Plot Results"
   ]
  },
  {
   "cell_type": "code",
   "execution_count": 39,
   "metadata": {},
   "outputs": [
    {
     "data": {
      "image/png": "[encoded data removed]",
      "text/plain": [
       "<IPython.core.display.Image object>"
      ]
     },
     "execution_count": 39,
     "metadata": {},
     "output_type": "execute_result"
    }
   ],
   "source": [
    "# tensorflow.keras.utils.plot_model(\n",
    "plot_model(\n",
    "    model,\n",
    "    to_file=\"model_CNN.png\",\n",
    "    show_shapes=False,\n",
    "    show_layer_names=True,\n",
    "    rankdir=\"TB\",\n",
    "    expand_nested=False,\n",
    "    dpi=96,\n",
    ")"
   ]
  },
  {
   "cell_type": "code",
   "execution_count": null,
   "metadata": {},
   "outputs": [],
   "source": []
  }
 ],
 "metadata": {
  "kernelspec": {
   "display_name": "Python 3",
   "language": "python",
   "name": "python3"
  },
  "language_info": {
   "codemirror_mode": {
    "name": "ipython",
    "version": 3
   },
   "file_extension": ".py",
   "mimetype": "text/x-python",
   "name": "python",
   "nbconvert_exporter": "python",
   "pygments_lexer": "ipython3",
   "version": "3.7.7"
  }
 },
 "nbformat": 4,
 "nbformat_minor": 4
}
