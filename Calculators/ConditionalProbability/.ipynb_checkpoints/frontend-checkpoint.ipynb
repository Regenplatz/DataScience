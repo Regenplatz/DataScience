{
 "cells": [
  {
   "cell_type": "markdown",
   "metadata": {},
   "source": [
    "### Calculate Conditional Probability"
   ]
  },
  {
   "cell_type": "code",
   "execution_count": 1,
   "metadata": {},
   "outputs": [],
   "source": [
    "import conditionalProbability as cp\n",
    "import ipywidgets as widgets\n",
    "from IPython.display import display"
   ]
  },
  {
   "cell_type": "code",
   "execution_count": 2,
   "metadata": {},
   "outputs": [],
   "source": [
    "probs = [r\"$P(X)$\", r\"$P(\\bar{X})$\", r\"$P(Y)$\", r\"$P(\\bar{Y})$\", \n",
    "         r\"$P(X|Y)$\", r\"$P(X|\\bar{Y})$\", r\"$P(\\bar{X}|Y)$\", r\"$P(\\bar{X}|\\bar{Y})$\",\n",
    "         r\"$P(Y|X)$\", r\"$P(Y|\\bar{X})$\", r\"$P(\\bar{Y}|X)$\", r\"$P(\\bar{Y}|\\bar{X})$\"]\n",
    "\n",
    "for elem in probs:   \n",
    "    items = [widgets.Text(description=elem, value=\"\") for elem in probs]\n",
    "    \n",
    "left_box = widgets.VBox([items[0], items[1], items[2], items[3]])\n",
    "middle_box = widgets.VBox([items[4], items[5], items[6], items[7]])\n",
    "right_box = widgets.VBox([items[8], items[9], items[10], items[11]])  "
   ]
  },
  {
   "cell_type": "code",
   "execution_count": 3,
   "metadata": {},
   "outputs": [],
   "source": [
    "buttonCalculate = widgets.Button(\n",
    "    description=\"Calculate\",\n",
    "    disabled=False,\n",
    "    button_style=\"info\",\n",
    "    tooltip=\"calculate conditional probabilities\",\n",
    "    icon=\"Check\"\n",
    "    )\n",
    "        \n",
    "def main(buttonCalculate):\n",
    "    \"\"\"Call functions\"\"\"\n",
    "    cp.calc_all(items)\n",
    "    \n",
    "buttonCalculate.on_click(main)"
   ]
  },
  {
   "cell_type": "code",
   "execution_count": 4,
   "metadata": {},
   "outputs": [],
   "source": [
    "buttonClearFields = widgets.Button(\n",
    "    description=\"Clear\",\n",
    "    disabled=False,\n",
    "    button_style=\"warning\",\n",
    "    tooltip=\"clear fields\",\n",
    "    icon=\"Check\"\n",
    "    )\n",
    "\n",
    "def clearFields(buttonClearFields):\n",
    "    \"\"\"Clear all fields\"\"\"\n",
    "    for i in range(12):\n",
    "        items[i].value = \"\"        \n",
    "\n",
    "buttonClearFields.on_click(clearFields)"
   ]
  },
  {
   "cell_type": "code",
   "execution_count": 5,
   "metadata": {},
   "outputs": [
    {
     "data": {
      "application/vnd.jupyter.widget-view+json": {
       "model_id": "cb9a11e4bc604d129ec708c60b5bdd8b",
       "version_major": 2,
       "version_minor": 0
      },
      "text/plain": [
       "HBox(children=(VBox(children=(Text(value='', description='$P(X)$'), Text(value='', description='$P(\\\\bar{X})$'…"
      ]
     },
     "metadata": {},
     "output_type": "display_data"
    }
   ],
   "source": [
    "widgets.HBox([left_box, middle_box, right_box])"
   ]
  },
  {
   "cell_type": "code",
   "execution_count": 6,
   "metadata": {},
   "outputs": [
    {
     "data": {
      "application/vnd.jupyter.widget-view+json": {
       "model_id": "538751b75ca24f05a3e3a4cb3edbdcfd",
       "version_major": 2,
       "version_minor": 0
      },
      "text/plain": [
       "HBox(children=(Button(button_style='info', description='Calculate', icon='Check', style=ButtonStyle(), tooltip…"
      ]
     },
     "metadata": {},
     "output_type": "display_data"
    }
   ],
   "source": [
    "# display(buttonCalculate, buttonClearFields)\n",
    "box_layout = widgets.Layout(display='flex',\n",
    "                flex_flow='column',\n",
    "                align_items='center',\n",
    "                width='100%')\n",
    "widgets.HBox([buttonCalculate, buttonClearFields], layout=box_layout)"
   ]
  },
  {
   "cell_type": "markdown",
   "metadata": {},
   "source": [
    "<!-- $\\bar{x}$ -->\n",
    "<!-- $\\overline {xyzabc}$ -->\n",
    "<!-- $\\mathregular{\\bar{x}}$ -->"
   ]
  }
 ],
 "metadata": {
  "kernelspec": {
   "display_name": "Python 3 (ipykernel)",
   "language": "python",
   "name": "python3"
  },
  "language_info": {
   "codemirror_mode": {
    "name": "ipython",
    "version": 3
   },
   "file_extension": ".py",
   "mimetype": "text/x-python",
   "name": "python",
   "nbconvert_exporter": "python",
   "pygments_lexer": "ipython3",
   "version": "3.8.13"
  }
 },
 "nbformat": 4,
 "nbformat_minor": 4
}
