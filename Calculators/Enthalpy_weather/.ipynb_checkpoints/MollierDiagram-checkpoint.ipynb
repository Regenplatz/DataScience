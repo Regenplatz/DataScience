{
 "cells": [
  {
   "cell_type": "markdown",
   "id": "e1730181",
   "metadata": {},
   "source": [
    "# Mollier Diagram (hx)"
   ]
  },
  {
   "cell_type": "markdown",
   "id": "0c086e3b",
   "metadata": {
    "toc": true
   },
   "source": [
    "<h1>Table of Contents<span class=\"tocSkip\"></span></h1>\n",
    "<div class=\"toc\"><ul class=\"toc-item\"><li><span><a href=\"#Load-Data\" data-toc-modified-id=\"Load-Data-1\"><span class=\"toc-item-num\">1&nbsp;&nbsp;</span>Load Data</a></span></li><li><span><a href=\"#Extract-Columns-of-Interest\" data-toc-modified-id=\"Extract-Columns-of-Interest-2\"><span class=\"toc-item-num\">2&nbsp;&nbsp;</span>Extract Columns of Interest</a></span></li><li><span><a href=\"#Create-Mollier-Diagram\" data-toc-modified-id=\"Create-Mollier-Diagram-3\"><span class=\"toc-item-num\">3&nbsp;&nbsp;</span>Create Mollier Diagram</a></span></li></ul></div>"
   ]
  },
  {
   "cell_type": "code",
   "execution_count": 11,
   "id": "3bae90df",
   "metadata": {
    "scrolled": true
   },
   "outputs": [
    {
     "ename": "ModuleNotFoundError",
     "evalue": "No module named 'psychrochart'",
     "output_type": "error",
     "traceback": [
      "\u001b[1;31m---------------------------------------------------------------------------\u001b[0m",
      "\u001b[1;31mModuleNotFoundError\u001b[0m                       Traceback (most recent call last)",
      "Input \u001b[1;32mIn [11]\u001b[0m, in \u001b[0;36m<cell line: 6>\u001b[1;34m()\u001b[0m\n\u001b[0;32m      4\u001b[0m \u001b[38;5;28;01mfrom\u001b[39;00m \u001b[38;5;21;01mmatplotlib\u001b[39;00m \u001b[38;5;28;01mimport\u001b[39;00m pyplot \u001b[38;5;28;01mas\u001b[39;00m plt\n\u001b[0;32m      5\u001b[0m \u001b[38;5;28;01mimport\u001b[39;00m \u001b[38;5;21;01mseaborn\u001b[39;00m \u001b[38;5;28;01mas\u001b[39;00m \u001b[38;5;21;01msns\u001b[39;00m\n\u001b[1;32m----> 6\u001b[0m \u001b[38;5;28;01mfrom\u001b[39;00m \u001b[38;5;21;01mpsychrochart\u001b[39;00m \u001b[38;5;28;01mimport\u001b[39;00m PsychroChart\n\u001b[0;32m      7\u001b[0m \u001b[38;5;28;01mimport\u001b[39;00m \u001b[38;5;21;01mpsychrolib\u001b[39;00m\n\u001b[0;32m      8\u001b[0m \u001b[38;5;28;01mimport\u001b[39;00m \u001b[38;5;21;01msys\u001b[39;00m\n",
      "\u001b[1;31mModuleNotFoundError\u001b[0m: No module named 'psychrochart'"
     ]
    }
   ],
   "source": [
    "import pandas as pd\n",
    "import numpy as np\n",
    "import math\n",
    "from matplotlib import pyplot as plt\n",
    "import seaborn as sns\n",
    "from psychrochart import PsychroChart\n",
    "import psychrolib\n",
    "import sys\n",
    "import warnings\n",
    "warnings.filterwarnings(\"ignore\")"
   ]
  },
  {
   "cell_type": "raw",
   "id": "9b7d13ce",
   "metadata": {},
   "source": [
    "df = pd.read_csv(\"order_104513_Binningen_data.txt\", sep=\";\")\n",
    "df.rename(columns={\"tre200h0\": \"temperature\",\n",
    "                   \"ure200h0\": \"humidity\",\n",
    "                   \"prestah0\": \"pressure\",\n",
    "                   \"time\": \"date_time\"}, inplace=True)\n",
    "df = df[[\"date_time\", \"temperature\", \"humidity\", \"pressure\"]]\n",
    "\n",
    "df[\"date_time\"] = df[\"date_time\"].apply(lambda x: x * 100)\n",
    "df[\"date_time\"] = df[\"date_time\"].astype(\"str\")\n",
    "df[\"date_time\"] = pd.to_datetime(df[\"date_time\"])\n",
    "df[\"date_time\"] = df[\"date_time\"].dt.tz_localize(tz=\"UTC\", ambiguous=\"infer\")\n",
    "\n",
    "df.to_csv(\"weather_data.csv\", index=False)"
   ]
  },
  {
   "cell_type": "raw",
   "id": "7a1e6fee",
   "metadata": {},
   "source": [
    "def roundData(the_data: float, decimal_no: int) -> float:\n",
    "    \"\"\"\n",
    "    Round data to the number of decimals provided.\n",
    "    :param the_data: float, data to be rounded\n",
    "    :param decimal_no: int, number of decimals in the rounded value\n",
    "    :return: float, rounded data\n",
    "    \"\"\"\n",
    "    if not np.isnan(the_data):\n",
    "        x1 = the_data * pow(10, decimal_no) + 0.5\n",
    "        x2 = math.floor(x1) / pow(10, decimal_no)\n",
    "        return x2\n",
    "    else:\n",
    "        None\n",
    "\n",
    "df = pd.read_csv(\"weather_data.csv\", sep=\",\")\n",
    "df[\"temperature\"] = df[\"temperature\"]*0.9812\n",
    "df[\"pressure\"] = df[\"pressure\"]*1.103\n",
    "df[\"humidity\"] = df[\"humidity\"]*0.973\n",
    "\n",
    "df[\"temperature\"] = df[\"temperature\"].apply(lambda x: roundData(x, 1) if pd.notnull(x) else None)\n",
    "df[\"pressure\"] = df[\"pressure\"].apply(lambda x: roundData(x, 1) if pd.notnull(x) else None)\n",
    "df[\"humidity\"] = df[\"humidity\"].apply(lambda x: roundData(x, 1) if pd.notnull(x) else None)\n",
    "\n",
    "df.to_csv(\"weather_data.csv\", index=False)\n",
    "\n",
    "# df.head()"
   ]
  },
  {
   "cell_type": "markdown",
   "id": "870f24ba",
   "metadata": {},
   "source": [
    "## Load Data"
   ]
  },
  {
   "cell_type": "code",
   "execution_count": 15,
   "id": "0dd20534",
   "metadata": {},
   "outputs": [
    {
     "data": {
      "text/html": [
       "<div>\n",
       "<style scoped>\n",
       "    .dataframe tbody tr th:only-of-type {\n",
       "        vertical-align: middle;\n",
       "    }\n",
       "\n",
       "    .dataframe tbody tr th {\n",
       "        vertical-align: top;\n",
       "    }\n",
       "\n",
       "    .dataframe thead th {\n",
       "        text-align: right;\n",
       "    }\n",
       "</style>\n",
       "<table border=\"1\" class=\"dataframe\">\n",
       "  <thead>\n",
       "    <tr style=\"text-align: right;\">\n",
       "      <th></th>\n",
       "      <th>date_time</th>\n",
       "      <th>temperature</th>\n",
       "      <th>humidity</th>\n",
       "      <th>pressure</th>\n",
       "    </tr>\n",
       "  </thead>\n",
       "  <tbody>\n",
       "    <tr>\n",
       "      <th>0</th>\n",
       "      <td>2017-01-01 00:00:00+00:00</td>\n",
       "      <td>-3.1</td>\n",
       "      <td>85.8</td>\n",
       "      <td>1092.1</td>\n",
       "    </tr>\n",
       "    <tr>\n",
       "      <th>1</th>\n",
       "      <td>2017-01-01 01:00:00+00:00</td>\n",
       "      <td>-3.4</td>\n",
       "      <td>85.7</td>\n",
       "      <td>1091.4</td>\n",
       "    </tr>\n",
       "    <tr>\n",
       "      <th>2</th>\n",
       "      <td>2017-01-01 02:00:00+00:00</td>\n",
       "      <td>-3.6</td>\n",
       "      <td>87.2</td>\n",
       "      <td>1090.8</td>\n",
       "    </tr>\n",
       "    <tr>\n",
       "      <th>3</th>\n",
       "      <td>2017-01-01 03:00:00+00:00</td>\n",
       "      <td>-3.6</td>\n",
       "      <td>87.5</td>\n",
       "      <td>1090.0</td>\n",
       "    </tr>\n",
       "    <tr>\n",
       "      <th>4</th>\n",
       "      <td>2017-01-01 04:00:00+00:00</td>\n",
       "      <td>-3.6</td>\n",
       "      <td>87.7</td>\n",
       "      <td>1089.2</td>\n",
       "    </tr>\n",
       "  </tbody>\n",
       "</table>\n",
       "</div>"
      ],
      "text/plain": [
       "                   date_time  temperature  humidity  pressure\n",
       "0  2017-01-01 00:00:00+00:00         -3.1      85.8    1092.1\n",
       "1  2017-01-01 01:00:00+00:00         -3.4      85.7    1091.4\n",
       "2  2017-01-01 02:00:00+00:00         -3.6      87.2    1090.8\n",
       "3  2017-01-01 03:00:00+00:00         -3.6      87.5    1090.0\n",
       "4  2017-01-01 04:00:00+00:00         -3.6      87.7    1089.2"
      ]
     },
     "execution_count": 15,
     "metadata": {},
     "output_type": "execute_result"
    }
   ],
   "source": [
    "df = pd.read_csv(\"weather_data.csv\", sep=\",\")\n",
    "#df = df[[\"temperature\", \"humidity\"]]\n",
    "df.head()"
   ]
  },
  {
   "cell_type": "markdown",
   "id": "404106c3",
   "metadata": {},
   "source": [
    "## Create Mollier Diagram"
   ]
  },
  {
   "cell_type": "code",
   "execution_count": null,
   "id": "da0e0940",
   "metadata": {
    "scrolled": true
   },
   "outputs": [],
   "source": [
    "## Load preconfigured styles:\n",
    "print(\"** Preconfigured chart style: `ashrae`:\")\n",
    "\n",
    "plt.figure(figsize = (12,12))\n",
    "chart_ashrae_style = PsychroChart('ashrae')\n",
    "chart_ashrae_style.plot(ax=plt.gca())\n",
    "\n",
    "# points = {'exterior': {'label': 'Exterior',\n",
    "#                        'style': {'color': [0.855, 0.004, 0.278, 0.8],\n",
    "#                                  'marker': 'o', 'markersize': 30},\n",
    "#                        'xy': (10, 70)},\n",
    "#           'exterior_estimated': {\n",
    "#               'label': 'Estimated (Weather service)',\n",
    "#               'style': {'color': [0.573, 0.106, 0.318, 0.5],\n",
    "#                         'marker': 'o', 'markersize': 30},\n",
    "#               'xy': (15, 74.0)},\n",
    "#           'interior': {'label': 'Interior',\n",
    "#                        'style': {'color': [0.592, 0.745, 0.051, 0.9],\n",
    "#                                  'marker': 'o', 'markersize': 30},\n",
    "#                        'xy': (15, 79)}\n",
    "#          }\n",
    "\n",
    "points = d\n",
    "\n",
    "chart_ashrae_style.plot_points_dbt_rh(points)"
   ]
  },
  {
   "cell_type": "raw",
   "id": "5991b717",
   "metadata": {},
   "source": [
    "## save figure\n",
    "plt.savefig(\"MollierDiagram.png\")"
   ]
  },
  {
   "cell_type": "code",
   "execution_count": null,
   "id": "ffe11d3d",
   "metadata": {},
   "outputs": [],
   "source": []
  }
 ],
 "metadata": {
  "kernelspec": {
   "display_name": "Python 3 (ipykernel)",
   "language": "python",
   "name": "python3"
  },
  "language_info": {
   "codemirror_mode": {
    "name": "ipython",
    "version": 3
   },
   "file_extension": ".py",
   "mimetype": "text/x-python",
   "name": "python",
   "nbconvert_exporter": "python",
   "pygments_lexer": "ipython3",
   "version": "3.8.13"
  },
  "toc": {
   "base_numbering": 1,
   "nav_menu": {},
   "number_sections": true,
   "sideBar": true,
   "skip_h1_title": true,
   "title_cell": "Table of Contents",
   "title_sidebar": "Contents",
   "toc_cell": true,
   "toc_position": {},
   "toc_section_display": true,
   "toc_window_display": false
  }
 },
 "nbformat": 4,
 "nbformat_minor": 5
}
